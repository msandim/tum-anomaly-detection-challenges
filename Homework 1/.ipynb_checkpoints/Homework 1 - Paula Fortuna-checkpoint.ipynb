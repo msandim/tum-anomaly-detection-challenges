{
 "cells": [
  {
   "cell_type": "markdown",
   "metadata": {},
   "source": [
    "# Homework 1"
   ]
  },
  {
   "cell_type": "code",
   "execution_count": 1,
   "metadata": {
    "collapsed": true
   },
   "outputs": [],
   "source": [
    "# Configurations\n",
    "import matplotlib\n",
    "import numpy as np\n",
    "import pandas as pd\n",
    "import matplotlib.pyplot as plt\n",
    "import seaborn as sns\n",
    "\n",
    "np.random.seed(42)\n",
    "%matplotlib inline"
   ]
  },
  {
   "cell_type": "markdown",
   "metadata": {},
   "source": [
    "## 1 - Utils functions"
   ]
  },
  {
   "cell_type": "code",
   "execution_count": 2,
   "metadata": {
    "collapsed": true
   },
   "outputs": [],
   "source": [
    "# From: http://scikit-learn.org/stable/auto_examples/model_selection/plot_confusion_matrix.html\n",
    "import itertools\n",
    "def plot_confusion_matrix(cm, classes,\n",
    "                          normalize=False,\n",
    "                          title='Confusion matrix',\n",
    "                          cmap=plt.cm.Blues):\n",
    "    \"\"\"\n",
    "    This function prints and plots the confusion matrix.\n",
    "    Normalization can be applied by setting `normalize=True`.\n",
    "    \"\"\"\n",
    "    plt.imshow(cm, interpolation='nearest', cmap=cmap)\n",
    "    plt.title(title)\n",
    "    plt.colorbar()\n",
    "    tick_marks = np.arange(len(classes))\n",
    "    plt.xticks(tick_marks, classes, rotation=45)\n",
    "    plt.yticks(tick_marks, classes)\n",
    "\n",
    "    if normalize:\n",
    "        cm = cm.astype('float') / cm.sum(axis=1)[:, np.newaxis]\n",
    "        print(\"Normalized confusion matrix\")\n",
    "    else:\n",
    "        print('Confusion matrix, without normalization')\n",
    "\n",
    "    print(cm)\n",
    "\n",
    "    thresh = cm.max() / 2.\n",
    "    for i, j in itertools.product(range(cm.shape[0]), range(cm.shape[1])):\n",
    "        plt.text(j, i, cm[i, j],\n",
    "                 horizontalalignment=\"center\",\n",
    "                 color=\"white\" if cm[i, j] > thresh else \"black\")\n",
    "\n",
    "    plt.tight_layout()\n",
    "    plt.ylabel('True label')\n",
    "    plt.xlabel('Predicted label')\n",
    "    \n",
    "def plot_for_KDE(probs):\n",
    "    plt.figure(figsize=(13, 3), dpi=500)\n",
    "    plt.plot(np.arange(len(probs)), probs)\n",
    "    plt.xlabel('Instances')\n",
    "    plt.ylabel('f(x)')\n",
    "    plt.title('PDF - data')\n",
    "    \n",
    "def performance_measures(true_positives,true_negatives,false_positives, false_negatives):   \n",
    "    accuracy  = (true_positives + true_negatives)/(true_positives + true_negatives + false_positives + false_negatives)\n",
    "    precision = true_positives/(true_positives + false_positives)\n",
    "    recall = true_positives/ (true_positives + false_negatives)\n",
    "    f1 = 2*(precision*recall)/(precision + recall)\n",
    "    return accuracy, precision, recall, f1"
   ]
  },
  {
   "cell_type": "markdown",
   "metadata": {},
   "source": [
    "## 2. Loading the data to pandas and split for training and test:"
   ]
  },
  {
   "cell_type": "code",
   "execution_count": 3,
   "metadata": {
    "collapsed": false
   },
   "outputs": [
    {
     "data": {
      "text/html": [
       "<div>\n",
       "<table border=\"1\" class=\"dataframe\">\n",
       "  <thead>\n",
       "    <tr style=\"text-align: right;\">\n",
       "      <th></th>\n",
       "      <th>age</th>\n",
       "      <th>sex</th>\n",
       "      <th>height</th>\n",
       "      <th>weight</th>\n",
       "      <th>QRS duration</th>\n",
       "      <th>P-R interval</th>\n",
       "      <th>Q-T interval</th>\n",
       "      <th>T interval</th>\n",
       "      <th>P interval</th>\n",
       "      <th>QRS</th>\n",
       "      <th>...</th>\n",
       "      <th>V6-Q wave ampl</th>\n",
       "      <th>V6-R wave ampl</th>\n",
       "      <th>V6-S wave ampl</th>\n",
       "      <th>V6-R' wave ampl</th>\n",
       "      <th>V6-S' wave ampl</th>\n",
       "      <th>V6-P wave ampl</th>\n",
       "      <th>V6-T wave ampl</th>\n",
       "      <th>V6-QRSA sum</th>\n",
       "      <th>V6-QRSTA</th>\n",
       "      <th>class</th>\n",
       "    </tr>\n",
       "  </thead>\n",
       "  <tbody>\n",
       "    <tr>\n",
       "      <th>0</th>\n",
       "      <td>75.0</td>\n",
       "      <td>0.0</td>\n",
       "      <td>190.0</td>\n",
       "      <td>80.0</td>\n",
       "      <td>91.0</td>\n",
       "      <td>193.0</td>\n",
       "      <td>371.0</td>\n",
       "      <td>174.0</td>\n",
       "      <td>121.0</td>\n",
       "      <td>-16.0</td>\n",
       "      <td>...</td>\n",
       "      <td>0.0</td>\n",
       "      <td>9.0</td>\n",
       "      <td>-0.9</td>\n",
       "      <td>0.0</td>\n",
       "      <td>0.0</td>\n",
       "      <td>0.9</td>\n",
       "      <td>2.9</td>\n",
       "      <td>23.3</td>\n",
       "      <td>49.4</td>\n",
       "      <td>anomaly</td>\n",
       "    </tr>\n",
       "    <tr>\n",
       "      <th>1</th>\n",
       "      <td>56.0</td>\n",
       "      <td>1.0</td>\n",
       "      <td>165.0</td>\n",
       "      <td>64.0</td>\n",
       "      <td>81.0</td>\n",
       "      <td>174.0</td>\n",
       "      <td>401.0</td>\n",
       "      <td>149.0</td>\n",
       "      <td>39.0</td>\n",
       "      <td>25.0</td>\n",
       "      <td>...</td>\n",
       "      <td>0.0</td>\n",
       "      <td>8.5</td>\n",
       "      <td>0.0</td>\n",
       "      <td>0.0</td>\n",
       "      <td>0.0</td>\n",
       "      <td>0.2</td>\n",
       "      <td>2.1</td>\n",
       "      <td>20.4</td>\n",
       "      <td>38.8</td>\n",
       "      <td>anomaly</td>\n",
       "    </tr>\n",
       "    <tr>\n",
       "      <th>2</th>\n",
       "      <td>54.0</td>\n",
       "      <td>0.0</td>\n",
       "      <td>172.0</td>\n",
       "      <td>95.0</td>\n",
       "      <td>138.0</td>\n",
       "      <td>163.0</td>\n",
       "      <td>386.0</td>\n",
       "      <td>185.0</td>\n",
       "      <td>102.0</td>\n",
       "      <td>96.0</td>\n",
       "      <td>...</td>\n",
       "      <td>0.0</td>\n",
       "      <td>9.5</td>\n",
       "      <td>-2.4</td>\n",
       "      <td>0.0</td>\n",
       "      <td>0.0</td>\n",
       "      <td>0.3</td>\n",
       "      <td>3.4</td>\n",
       "      <td>12.3</td>\n",
       "      <td>49.0</td>\n",
       "      <td>anomaly</td>\n",
       "    </tr>\n",
       "    <tr>\n",
       "      <th>3</th>\n",
       "      <td>55.0</td>\n",
       "      <td>0.0</td>\n",
       "      <td>175.0</td>\n",
       "      <td>94.0</td>\n",
       "      <td>100.0</td>\n",
       "      <td>202.0</td>\n",
       "      <td>380.0</td>\n",
       "      <td>179.0</td>\n",
       "      <td>143.0</td>\n",
       "      <td>28.0</td>\n",
       "      <td>...</td>\n",
       "      <td>0.0</td>\n",
       "      <td>12.2</td>\n",
       "      <td>-2.2</td>\n",
       "      <td>0.0</td>\n",
       "      <td>0.0</td>\n",
       "      <td>0.4</td>\n",
       "      <td>2.6</td>\n",
       "      <td>34.6</td>\n",
       "      <td>61.6</td>\n",
       "      <td>normal</td>\n",
       "    </tr>\n",
       "    <tr>\n",
       "      <th>4</th>\n",
       "      <td>13.0</td>\n",
       "      <td>0.0</td>\n",
       "      <td>169.0</td>\n",
       "      <td>51.0</td>\n",
       "      <td>100.0</td>\n",
       "      <td>167.0</td>\n",
       "      <td>321.0</td>\n",
       "      <td>174.0</td>\n",
       "      <td>91.0</td>\n",
       "      <td>107.0</td>\n",
       "      <td>...</td>\n",
       "      <td>-0.6</td>\n",
       "      <td>12.2</td>\n",
       "      <td>-2.8</td>\n",
       "      <td>0.0</td>\n",
       "      <td>0.0</td>\n",
       "      <td>0.9</td>\n",
       "      <td>2.2</td>\n",
       "      <td>13.5</td>\n",
       "      <td>31.1</td>\n",
       "      <td>anomaly</td>\n",
       "    </tr>\n",
       "  </tbody>\n",
       "</table>\n",
       "<p>5 rows × 279 columns</p>\n",
       "</div>"
      ],
      "text/plain": [
       "    age  sex  height  weight  QRS duration  P-R interval  Q-T interval  \\\n",
       "0  75.0  0.0   190.0    80.0          91.0         193.0         371.0   \n",
       "1  56.0  1.0   165.0    64.0          81.0         174.0         401.0   \n",
       "2  54.0  0.0   172.0    95.0         138.0         163.0         386.0   \n",
       "3  55.0  0.0   175.0    94.0         100.0         202.0         380.0   \n",
       "4  13.0  0.0   169.0    51.0         100.0         167.0         321.0   \n",
       "\n",
       "   T interval  P interval    QRS   ...     V6-Q wave ampl  V6-R wave ampl  \\\n",
       "0       174.0       121.0  -16.0   ...                0.0             9.0   \n",
       "1       149.0        39.0   25.0   ...                0.0             8.5   \n",
       "2       185.0       102.0   96.0   ...                0.0             9.5   \n",
       "3       179.0       143.0   28.0   ...                0.0            12.2   \n",
       "4       174.0        91.0  107.0   ...               -0.6            12.2   \n",
       "\n",
       "   V6-S wave ampl  V6-R' wave ampl  V6-S' wave ampl  V6-P wave ampl  \\\n",
       "0            -0.9              0.0              0.0             0.9   \n",
       "1             0.0              0.0              0.0             0.2   \n",
       "2            -2.4              0.0              0.0             0.3   \n",
       "3            -2.2              0.0              0.0             0.4   \n",
       "4            -2.8              0.0              0.0             0.9   \n",
       "\n",
       "   V6-T wave ampl  V6-QRSA sum  V6-QRSTA    class  \n",
       "0             2.9         23.3      49.4  anomaly  \n",
       "1             2.1         20.4      38.8  anomaly  \n",
       "2             3.4         12.3      49.0  anomaly  \n",
       "3             2.6         34.6      61.6   normal  \n",
       "4             2.2         13.5      31.1  anomaly  \n",
       "\n",
       "[5 rows x 279 columns]"
      ]
     },
     "execution_count": 3,
     "metadata": {},
     "output_type": "execute_result"
    }
   ],
   "source": [
    "# Load the data\n",
    "import scipy.io\n",
    "data_mat = scipy.io.loadmat(\"data/oc_514.mat\")\n",
    "data_mat = data_mat['x'][0,0]\n",
    "dataset = pd.DataFrame(np.hstack((data_mat[0],data_mat[2])), columns = np.append([x.strip() for x in data_mat[5]], [\"class\"]))\n",
    "dataset[\"class\"] = dataset[\"class\"].astype(\"category\")\n",
    "dataset[\"class\"].cat.rename_categories([\"anomaly\", \"normal\"], inplace = True)\n",
    "\n",
    "dataset.head()"
   ]
  },
  {
   "cell_type": "markdown",
   "metadata": {},
   "source": [
    "### Spliting the data for training and test:"
   ]
  },
  {
   "cell_type": "code",
   "execution_count": 4,
   "metadata": {
    "collapsed": false
   },
   "outputs": [],
   "source": [
    "from sklearn.model_selection import train_test_split\n",
    "\n",
    "X = dataset.ix[:,:278]\n",
    "y = dataset.ix[:,278]\n",
    "\n",
    "X_train, X_test, y_train, y_test = train_test_split(dataset.ix[:,:278], dataset.ix[:,278], test_size=0.3, random_state=0)\n",
    "X_train_normal = X_train[y_train != \"anomaly\"]\n"
   ]
  },
  {
   "cell_type": "markdown",
   "metadata": {
    "collapsed": true
   },
   "source": [
    "## 3) KDE\n",
    "\n",
    "Instructions: Kernel Density Estimation with Gaussian kernel (use scikit-learn or try to implement it yourself)"
   ]
  },
  {
   "cell_type": "code",
   "execution_count": 5,
   "metadata": {
    "collapsed": false
   },
   "outputs": [
    {
     "data": {
      "image/png": "[encoded data removed]",
      "text/plain": [
       "<matplotlib.figure.Figure at 0x32f82b6b00>"
      ]
     },
     "metadata": {},
     "output_type": "display_data"
    }
   ],
   "source": [
    "from sklearn.neighbors.kde import KernelDensity\n",
    "\n",
    "#Calculate probabilities \n",
    "\n",
    "#hist = KernelDensity(kernel = \"guassian\", brandwith = 0.2)\n",
    "model = KernelDensity(kernel = \"gaussian\", bandwidth = 3.1)    \n",
    "model.fit(X_train_normal)\n",
    "results = np.exp(model.score_samples(X_test))\n",
    "\n",
    "# make predictions\n",
    "y_pred = np.array([\"anomaly\" if y == 0.0 else \"normal\" for y in results])\n",
    "\n",
    "plot_for_KDE(results)"
   ]
  },
  {
   "cell_type": "code",
   "execution_count": 6,
   "metadata": {
    "collapsed": false
   },
   "outputs": [
    {
     "name": "stdout",
     "output_type": "stream",
     "text": [
      "Confusion matrix, without normalization\n",
      "[[26 50]\n",
      " [13 37]]\n"
     ]
    },
    {
     "data": {
      "image/png": "[encoded data removed]",
      "text/plain": [
       "<matplotlib.figure.Figure at 0x32ee508978>"
      ]
     },
     "metadata": {},
     "output_type": "display_data"
    }
   ],
   "source": [
    "from sklearn.metrics import confusion_matrix\n",
    "plot_confusion_matrix(confusion_matrix(y_test, y_pred, labels = [\"normal\", \"anomaly\"]), classes = [\"normal\", \"anomaly\"])"
   ]
  },
  {
   "cell_type": "markdown",
   "metadata": {},
   "source": [
    "### Performance measures"
   ]
  },
  {
   "cell_type": "code",
   "execution_count": 7,
   "metadata": {
    "collapsed": false
   },
   "outputs": [
    {
     "name": "stdout",
     "output_type": "stream",
     "text": [
      "0.42857142857142855\n",
      "0.39\n",
      "0.78\n",
      "0.5200000000000001\n"
     ]
    }
   ],
   "source": [
    "# positive = anomaly\n",
    "true_positives = 39\n",
    "true_negatives = 15\n",
    "false_positives = 61\n",
    "false_negatives = 11\n",
    "\n",
    "# accuracy = correct/total\n",
    "\n",
    "accuracy, precision, recall, f1 = performance_measures(\n",
    "    true_positives, \n",
    "    true_negatives, \n",
    "    false_positives,\n",
    "    false_negatives)\n",
    "\n",
    "print(accuracy)\n",
    "print(precision)\n",
    "print(recall)\n",
    "print(f1)"
   ]
  },
  {
   "cell_type": "markdown",
   "metadata": {},
   "source": [
    "#### Conclusions:\n",
    "Poor performance. Very low accuracy.\n"
   ]
  },
  {
   "cell_type": "markdown",
   "metadata": {},
   "source": [
    "# 4) One-class SVM\n",
    "\n",
    "Instruction: One-Class SVM (use scikit-learn or try to implement it yourself)"
   ]
  },
  {
   "cell_type": "code",
   "execution_count": 8,
   "metadata": {
    "collapsed": false
   },
   "outputs": [
    {
     "name": "stdout",
     "output_type": "stream",
     "text": [
      "Confusion matrix, without normalization\n",
      "[[36 40]\n",
      " [20 30]]\n"
     ]
    },
    {
     "data": {
      "image/png": "[encoded data removed]",
      "text/plain": [
       "<matplotlib.figure.Figure at 0x32f9281c18>"
      ]
     },
     "metadata": {},
     "output_type": "display_data"
    }
   ],
   "source": [
    "from sklearn import svm\n",
    "\n",
    "model = svm.OneClassSVM(kernel=\"linear\")\n",
    "model.fit(X_train_normal)\n",
    "y_pred = np.array([\"anomaly\" if y == 1 else \"normal\" for y in model.predict(X_test)])\n",
    "\n",
    "plot_confusion_matrix(confusion_matrix(y_test, y_pred, labels = [\"normal\", \"anomaly\"]), classes = [\"normal\", \"anomaly\"])"
   ]
  },
  {
   "cell_type": "markdown",
   "metadata": {},
   "source": [
    "### Performance measure"
   ]
  },
  {
   "cell_type": "code",
   "execution_count": 9,
   "metadata": {
    "collapsed": false
   },
   "outputs": [
    {
     "name": "stdout",
     "output_type": "stream",
     "text": [
      "0.5238095238095238\n",
      "0.6\n",
      "0.42857142857142855\n",
      "0.5\n"
     ]
    }
   ],
   "source": [
    "# positive = anomaly\n",
    "true_positives = 30\n",
    "true_negatives = 36\n",
    "false_positives = 20\n",
    "false_negatives = 40\n",
    "\n",
    "# accuracy = correct/total\n",
    "\n",
    "accuracy, precision, recall, f1 = performance_measures(\n",
    "    true_positives, \n",
    "    true_negatives, \n",
    "    false_positives,\n",
    "    false_negatives)\n",
    "\n",
    "print(accuracy)\n",
    "print(precision)\n",
    "print(recall)\n",
    "print(f1)"
   ]
  },
  {
   "cell_type": "markdown",
   "metadata": {},
   "source": [
    "#### Conclusions:\n",
    "- Better performance when compared to KDE, still poor performance and low accuracy . "
   ]
  },
  {
   "cell_type": "markdown",
   "metadata": {},
   "source": [
    "### 3) LOF\n",
    "\n",
    "Instruction: Local Outlier Factor (try to implement it yourself)"
   ]
  },
  {
   "cell_type": "code",
   "execution_count": 18,
   "metadata": {
    "collapsed": false
   },
   "outputs": [],
   "source": [
    "from sklearn.neighbors import NearestNeighbors\n",
    "import scipy.spatial.distance as scidi \n",
    "\n",
    "class LOF:\n",
    "    def __init__(self, train_data, k):\n",
    "        self.train_data = train_data\n",
    "        self.nearest_neighbors = NearestNeighbors(n_neighbors = k, metric = \"euclidean\")\n",
    "        self.nearest_neighbors.fit(train_data)\n",
    "    \n",
    "    def neighbors(self, a):\n",
    "        return(self.nearest_neighbors.kneighbors([a]))\n",
    "    \n",
    "    def number_of_neighbors(self, a):\n",
    "        return(len(self.neighbors(a)[0][0]))\n",
    "    \n",
    "    def k_distance(self, a):\n",
    "        dist, i = self.neighbors(a)\n",
    "        return(max(dist[0]))\n",
    "    \n",
    "    def reachability_distance(self, a, b):\n",
    "        return(max([self.k_distance(b), scidi.euclidean(a, b)]))\n",
    "    \n",
    "    def lrd(self, a):\n",
    "        neighbors_dist, neighbors_i = self.neighbors(a)\n",
    "        return(1/(sum([self.reachability_distance(a, b) for b in self.train_data.iloc[neighbors_i[0],:].values])/self.number_of_neighbors(a)))\n",
    "    \n",
    "    def lof(self, a):\n",
    "        neighbors_dist, neighbors_i = self.neighbors(a)\n",
    "        return(sum([(self.lrd(b) / self.lrd(a)) for b in self.train_data.iloc[neighbors_i[0], :].values])/self.number_of_neighbors(a))\n",
    "    \n",
    "    def predict(self, test_data):\n",
    "        return([self.lof(x) for i, x in test_data.iterrows()])"
   ]
  },
  {
   "cell_type": "code",
   "execution_count": 16,
   "metadata": {
    "collapsed": false
   },
   "outputs": [],
   "source": [
    "model = LOF(X_train_normal, 5)\n",
    "model_prediction = model.predict(X_test)\n",
    "y_pred = np.array([\"anomaly\" if y > 1.2 else \"normal\" for y in model_prediction])"
   ]
  },
  {
   "cell_type": "code",
   "execution_count": 17,
   "metadata": {
    "collapsed": false
   },
   "outputs": [
    {
     "name": "stdout",
     "output_type": "stream",
     "text": [
      "Confusion matrix, without normalization\n",
      "[[56 20]\n",
      " [22 28]]\n"
     ]
    },
    {
     "data": {
      "image/png": "[encoded data removed]",
      "text/plain": [
       "<matplotlib.figure.Figure at 0x32fa7e5cc0>"
      ]
     },
     "metadata": {},
     "output_type": "display_data"
    }
   ],
   "source": [
    "plot_confusion_matrix(confusion_matrix(y_test, y_pred, labels = [\"normal\", \"anomaly\"]), classes = [\"normal\", \"anomaly\"])"
   ]
  },
  {
   "cell_type": "markdown",
   "metadata": {},
   "source": [
    "# Performance measure"
   ]
  },
  {
   "cell_type": "code",
   "execution_count": 13,
   "metadata": {
    "collapsed": false
   },
   "outputs": [
    {
     "name": "stdout",
     "output_type": "stream",
     "text": [
      "0.6666666666666666\n",
      "0.56\n",
      "0.5833333333333334\n",
      "0.5714285714285714\n"
     ]
    }
   ],
   "source": [
    "# positive = anomaly\n",
    "true_positives = 28\n",
    "true_negatives = 56\n",
    "false_positives = 22\n",
    "false_negatives = 20\n",
    "\n",
    "# accuracy = correct/total\n",
    "\n",
    "accuracy, precision, recall, f1 = performance_measures(\n",
    "    true_positives, \n",
    "    true_negatives, \n",
    "    false_positives,\n",
    "    false_negatives)\n",
    "\n",
    "print(accuracy)\n",
    "print(precision)\n",
    "print(recall)\n",
    "print(f1)"
   ]
  },
  {
   "cell_type": "markdown",
   "metadata": {},
   "source": [
    "#### Conclusions:\n",
    "- The LOF proved to be the best of all the analysed algorithms and it got improvement in all performance measures."
   ]
  }
 ],
 "metadata": {
  "anaconda-cloud": {},
  "kernelspec": {
   "display_name": "Python [conda root]",
   "language": "python",
   "name": "conda-root-py"
  },
  "language_info": {
   "codemirror_mode": {
    "name": "ipython",
    "version": 3
   },
   "file_extension": ".py",
   "mimetype": "text/x-python",
   "name": "python",
   "nbconvert_exporter": "python",
   "pygments_lexer": "ipython3",
   "version": "3.5.2"
  }
 },
 "nbformat": 4,
 "nbformat_minor": 1
}
