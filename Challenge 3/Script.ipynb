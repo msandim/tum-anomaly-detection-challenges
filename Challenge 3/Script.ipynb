{
 "cells": [
  {
   "cell_type": "markdown",
   "metadata": {},
   "source": [
    "# Anomaly Detection Challenge 3\n",
    "## Miguel Sandim and Paula Fortuna"
   ]
  },
  {
   "cell_type": "markdown",
   "metadata": {},
   "source": [
    "## 0 - Library Imports & Utils"
   ]
  },
  {
   "cell_type": "code",
   "execution_count": 1,
   "metadata": {
    "collapsed": false
   },
   "outputs": [],
   "source": [
    "# pandas\n",
    "import pandas as pd\n",
    "from pandas import Series,DataFrame\n",
    "\n",
    "# numpy, matplotlib, seaborn\n",
    "import numpy as np\n",
    "import matplotlib.pyplot as plt\n",
    "import seaborn as sns\n",
    "%matplotlib inline\n",
    "\n",
    "# Random libraries and seeds:\n",
    "import random\n",
    "random.seed(2)\n",
    "np.random.seed(2)\n",
    "\n",
    "pd.set_option('display.max_columns', None)"
   ]
  },
  {
   "cell_type": "code",
   "execution_count": 2,
   "metadata": {
    "collapsed": false
   },
   "outputs": [],
   "source": [
    "# From: http://scikit-learn.org/stable/auto_examples/model_selection/plot_confusion_matrix.html\n",
    "import itertools\n",
    "from sklearn.metrics import confusion_matrix\n",
    "\n",
    "def plot_confusion_matrix(cm, classes,\n",
    "                          normalize=False,\n",
    "                          title='Confusion matrix',\n",
    "                          cmap=plt.cm.Blues):\n",
    "    \"\"\"\n",
    "    This function prints and plots the confusion matrix.\n",
    "    Normalization can be applied by setting `normalize=True`.\n",
    "    \"\"\"\n",
    "    plt.imshow(cm, interpolation='nearest', cmap=cmap)\n",
    "    plt.title(title)\n",
    "    plt.colorbar()\n",
    "    tick_marks = np.arange(len(classes))\n",
    "    plt.xticks(tick_marks, classes, rotation=45)\n",
    "    plt.yticks(tick_marks, classes)\n",
    "\n",
    "    if normalize:\n",
    "        cm = cm.astype('float') / cm.sum(axis=1)[:, np.newaxis]\n",
    "        print(\"Normalized confusion matrix\")\n",
    "    else:\n",
    "        print('Confusion matrix, without normalization')\n",
    "\n",
    "    print(cm)\n",
    "\n",
    "    thresh = cm.max() / 2.\n",
    "    for i, j in itertools.product(range(cm.shape[0]), range(cm.shape[1])):\n",
    "        plt.text(j, i, cm[i, j],\n",
    "                 horizontalalignment=\"center\",\n",
    "                 color=\"white\" if cm[i, j] > thresh else \"black\")\n",
    "\n",
    "    plt.tight_layout()\n",
    "    plt.ylabel('True label')\n",
    "    plt.xlabel('Predicted label')\n",
    "\n",
    "######################################\n",
    "# Function Save Data To CSV\n",
    "######################################\n",
    "\n",
    "def saveDataToCSV(Y_pred):\n",
    "    id_list = range(1, len(Y_pred) + 1)\n",
    "    submission = pd.DataFrame({\n",
    "        \"Id\": id_list,\n",
    "        \"Label\": Y_pred\n",
    "    })\n",
    "    submission = submission[['Id', 'Label']]\n",
    "    submission.to_csv('submission.csv', index=False)\n"
   ]
  },
  {
   "cell_type": "markdown",
   "metadata": {},
   "source": [
    "# 1 - Data Reading"
   ]
  },
  {
   "cell_type": "markdown",
   "metadata": {},
   "source": [
    "### 1.1 Load data"
   ]
  },
  {
   "cell_type": "code",
   "execution_count": 3,
   "metadata": {
    "collapsed": false
   },
   "outputs": [],
   "source": [
    "# read from csv\n",
    "train_df = pd.read_csv(\"data/training-set.csv\")\n",
    "test_df = pd.read_csv(\"data/testing-set.csv\")"
   ]
  },
  {
   "cell_type": "code",
   "execution_count": 4,
   "metadata": {
    "collapsed": false,
    "scrolled": true
   },
   "outputs": [
    {
     "data": {
      "text/plain": [
       "0    56000\n",
       "1       41\n",
       "Name: label, dtype: int64"
      ]
     },
     "execution_count": 4,
     "metadata": {},
     "output_type": "execute_result"
    }
   ],
   "source": [
    "train_df[\"label\"].value_counts()"
   ]
  },
  {
   "cell_type": "code",
   "execution_count": 5,
   "metadata": {
    "collapsed": false
   },
   "outputs": [
    {
     "data": {
      "text/plain": [
       "0.07316072161453221"
      ]
     },
     "execution_count": 5,
     "metadata": {},
     "output_type": "execute_result"
    }
   ],
   "source": [
    "41/(41 + 56000) * 100"
   ]
  },
  {
   "cell_type": "markdown",
   "metadata": {},
   "source": [
    "## About 0.07% of our dataset are anomalous cases."
   ]
  },
  {
   "cell_type": "markdown",
   "metadata": {},
   "source": [
    "# 2 - Data Pre-Processing"
   ]
  },
  {
   "cell_type": "code",
   "execution_count": 6,
   "metadata": {
    "collapsed": false
   },
   "outputs": [],
   "source": [
    "import sklearn.preprocessing as skpre"
   ]
  },
  {
   "cell_type": "markdown",
   "metadata": {},
   "source": [
    "## 2.1 - Solve Missing Values"
   ]
  },
  {
   "cell_type": "markdown",
   "metadata": {},
   "source": [
    "No missing values exist!"
   ]
  },
  {
   "cell_type": "markdown",
   "metadata": {},
   "source": [
    "## 2.2 - Feature Extraction"
   ]
  },
  {
   "cell_type": "code",
   "execution_count": 7,
   "metadata": {
    "collapsed": false
   },
   "outputs": [],
   "source": [
    "def processService():\n",
    "    \n",
    "    ### Proto1\n",
    "    train_df[\"proto1\"] = ((train_df[\"proto\"] == \"arp\") | \n",
    "                            (train_df[\"proto\"] == \"icmp\") |\n",
    "                            (train_df[\"proto\"] == \"igmp\")).astype(int)\n",
    "    \n",
    "    test_df[\"proto1\"] = ((test_df[\"proto\"] == \"arp\") | \n",
    "                            (test_df[\"proto\"] == \"icmp\") |\n",
    "                            (test_df[\"proto\"] == \"igmp\")).astype(int)\n",
    "    \n",
    "    ### Proto2\n",
    "    train_df[\"proto2\"] = ((train_df[\"proto\"] == \"eigrp\") | \n",
    "                            (train_df[\"proto\"] == \"gmtp\") |\n",
    "                            (train_df[\"proto\"] == \"ipx-n-ip\") |\n",
    "                            (train_df[\"proto\"] == \"pim\") |\n",
    "                            (train_df[\"proto\"] == \"rvd\") |\n",
    "                            (train_df[\"proto\"] == \"sctp\") |\n",
    "                            (train_df[\"proto\"] == \"unas\")).astype(int)\n",
    "    \n",
    "    test_df[\"proto2\"] = ((test_df[\"proto\"] == \"eigrp\") | \n",
    "                            (test_df[\"proto\"] == \"gmtp\") |\n",
    "                            (test_df[\"proto\"] == \"ipx-n-ip\") |\n",
    "                            (test_df[\"proto\"] == \"pim\") |\n",
    "                            (test_df[\"proto\"] == \"rvd\") |\n",
    "                            (test_df[\"proto\"] == \"sctp\") |\n",
    "                            (test_df[\"proto\"] == \"unas\")).astype(int)\n",
    "    \n",
    "    ### Service1\n",
    "    train_df[\"service1\"] = ((train_df[\"service\"] == \"ftp\") | \n",
    "                            (train_df[\"service\"] == \"ftp-data\") |\n",
    "                            (train_df[\"service\"] == \"http\") |\n",
    "                            (train_df[\"service\"] == \"pop3\") |\n",
    "                            (train_df[\"service\"] == \"radius\") |\n",
    "                            (train_df[\"service\"] == \"smtp\") |\n",
    "                            (train_df[\"service\"] == \"snmp\") |\n",
    "                            (train_df[\"service\"] == \"ssh\")).astype(int)\n",
    "    \n",
    "    test_df[\"service1\"] = ((test_df[\"service\"] == \"ftp\") | \n",
    "                            (test_df[\"service\"] == \"ftp-data\") |\n",
    "                            (test_df[\"service\"] == \"http\") |\n",
    "                            (test_df[\"service\"] == \"pop3\") |\n",
    "                            (test_df[\"service\"] == \"radius\") |\n",
    "                            (test_df[\"service\"] == \"smtp\") |\n",
    "                            (test_df[\"service\"] == \"snmp\") |\n",
    "                            (test_df[\"service\"] == \"ssh\")).astype(int)\n",
    "    \n",
    "processService()"
   ]
  },
  {
   "cell_type": "markdown",
   "metadata": {},
   "source": [
    "## 2.4 Sampling"
   ]
  },
  {
   "cell_type": "markdown",
   "metadata": {},
   "source": [
    "### 2.4.1 Undersampling"
   ]
  },
  {
   "cell_type": "code",
   "execution_count": 8,
   "metadata": {
    "collapsed": false
   },
   "outputs": [],
   "source": [
    "def undersampling(data):\n",
    "    ids_to_sample = data[data[\"label\"] == 0].index.values\n",
    "    sample_size = data[data[\"label\"] == 1].shape[0]\n",
    "    anomalies = data[data[\"label\"] == 1].index.values\n",
    "    \n",
    "    final_ids = np.append(np.random.choice(ids_to_sample, size = sample_size), anomalies)\n",
    "    #print(ids_to_sample)\n",
    "    #data[fake_review]\n",
    "    return data.iloc[final_ids]\n",
    "    \n",
    "train_df = undersampling(train_df)  "
   ]
  },
  {
   "cell_type": "markdown",
   "metadata": {},
   "source": [
    "### 2.4.2 Oversampling"
   ]
  },
  {
   "cell_type": "code",
   "execution_count": 9,
   "metadata": {
    "collapsed": false
   },
   "outputs": [],
   "source": [
    "def oversampling(data):\n",
    "    anomalies = data[data[\"fake_review\"] == \"Y\"]\n",
    "    data = data.append(anomalies)\n",
    "    data = data.append(anomalies)\n",
    "    data = data.append(anomalies)\n",
    "    data = data.append(anomalies)\n",
    "    data = data.append(anomalies)\n",
    "    data = data.append(anomalies)\n",
    "    return data\n",
    "\n",
    "#train_df_joined = oversampling(train_df_joined)  "
   ]
  },
  {
   "cell_type": "markdown",
   "metadata": {},
   "source": [
    "## 2.5 Define global variables for the model"
   ]
  },
  {
   "cell_type": "code",
   "execution_count": 10,
   "metadata": {
    "collapsed": false,
    "scrolled": true
   },
   "outputs": [],
   "source": [
    "def encodeVariables():\n",
    "    \n",
    "    target_variable = \"label\" # target variable\n",
    "    \n",
    "    dropVariableList = [\n",
    "        \n",
    "        ### All variables in this list will be deleted\n",
    "        \"id\",\n",
    "        \"dur\",\n",
    "        \"proto\", # categorical\n",
    "        \"service\", # categorical\n",
    "        \"state\", # categorical\n",
    "        #\"spkts\",\n",
    "        #\"dpkts\",\n",
    "        #\"sbytes\",\n",
    "        #\"dbytes\",\n",
    "        #\"rate\",\n",
    "        #\"sttl\",\n",
    "        #\"dttl\",\n",
    "        #\"sload\",\n",
    "        #\"dload\",\n",
    "        #\"sloss\",\n",
    "        #\"dloss\",\n",
    "        ##\"sinpkt\",\n",
    "        #\"dinpkt\",\n",
    "        ##\"sjit\",\n",
    "        #\"djit\",\n",
    "        ##\"swin\",\n",
    "        #\"stcpb\",\n",
    "        ##\"dtcpb\",\n",
    "        ##\"dwin\",\n",
    "        #\"tcprtt\",\n",
    "        #\"synack\",\n",
    "        #\"ackdat\",\n",
    "        ##\"smean\",\n",
    "        #\"dmean\",\n",
    "        #\"trans_depth\",\n",
    "        ##\"response_body_len\",\n",
    "        #\"ct_srv_src\",\n",
    "        ##\"ct_state_ttl\",\n",
    "        #\"ct_dst_ltm\",\n",
    "        ##\"ct_src_dport_ltm\",\n",
    "        #\"ct_dst_sport_ltm\",\n",
    "        ##\"ct_dst_src_ltm\",\n",
    "        #\"is_ftp_login\",\n",
    "        ##\"ct_ftp_cmd\",\n",
    "        #\"ct_flw_http_mthd\",\n",
    "        #\"ct_src_ltm\",\n",
    "        ##\"ct_srv_dst\"\n",
    "        #\"is_sm_ips_ports\",\n",
    "        \n",
    "        ### Our variables:\n",
    "        #proto1,\n",
    "        #proto2,\n",
    "        #service1\n",
    "        ]\n",
    " \n",
    "    # Drop variables in the X_train:\n",
    "    X_train = train_df.drop(dropVariableList, axis=1)\n",
    "    X_train.to_csv(\"X_train.csv\", index = False, encoding='utf-8') # Save this in a CSV before dropping target\n",
    "    \n",
    "    # Drop target variables in the X_train:\n",
    "    X_train = X_train.drop([target_variable, \"attack_cat\"], axis=1)\n",
    "    \n",
    "    # Drop variables in the X_test:\n",
    "    X_test = test_df.drop(dropVariableList, axis=1)\n",
    "    \n",
    "    # Drop variables in the Y_train:\n",
    "    Y_train = train_df[target_variable]\n",
    "\n",
    "    # The following variables are categorical:\n",
    "    # - proto\n",
    "    # - service\n",
    "    # - state\n",
    "    # - attack_cat (we're not using this one)\n",
    "    # - label\n",
    "    \n",
    "    # Transform categorical variables for X_train:\n",
    "    categoricalVariableList = [\n",
    "        #\"proto\",\n",
    "        #\"service\",\n",
    "        #\"state\"\n",
    "    ]\n",
    "    \n",
    "    # Number of dimensions must be the same in X_train and X_test\n",
    "    assert X_train.shape[1] == X_test.shape[1]\n",
    "    \n",
    "    # Apply dummy variables\n",
    "    #X_all = X_train.append(X_test)\n",
    "    #X_all = pd.get_dummies(X_all, columns = categoricalVariableList)\n",
    "    \n",
    "    #X_train = X_all.iloc[np.arange(0, X_train.shape[0]), :]\n",
    "    #X_test = X_all.iloc[np.arange(X_train.shape[0], X_all.shape[0]), :]\n",
    "    \n",
    "    return X_train, Y_train, X_test\n",
    "\n",
    "#train_df_joined = train_df_joined.iloc[np.random.permutation(len(train_df_joined))]\n",
    "\n",
    "X_train, Y_train, X_test = encodeVariables()"
   ]
  },
  {
   "cell_type": "code",
   "execution_count": 11,
   "metadata": {
    "collapsed": false
   },
   "outputs": [
    {
     "data": {
      "text/plain": [
       "(82, 41)"
      ]
     },
     "execution_count": 11,
     "metadata": {},
     "output_type": "execute_result"
    }
   ],
   "source": [
    "X_train.shape"
   ]
  },
  {
   "cell_type": "code",
   "execution_count": 12,
   "metadata": {
    "collapsed": false
   },
   "outputs": [
    {
     "data": {
      "text/plain": [
       "(82, 48)"
      ]
     },
     "execution_count": 12,
     "metadata": {},
     "output_type": "execute_result"
    }
   ],
   "source": [
    "train_df.shape"
   ]
  },
  {
   "cell_type": "code",
   "execution_count": 13,
   "metadata": {
    "collapsed": false
   },
   "outputs": [
    {
     "data": {
      "text/plain": [
       "(82332, 41)"
      ]
     },
     "execution_count": 13,
     "metadata": {},
     "output_type": "execute_result"
    }
   ],
   "source": [
    "X_test.shape"
   ]
  },
  {
   "cell_type": "code",
   "execution_count": 14,
   "metadata": {
    "collapsed": false
   },
   "outputs": [
    {
     "data": {
      "text/plain": [
       "(82332, 46)"
      ]
     },
     "execution_count": 14,
     "metadata": {},
     "output_type": "execute_result"
    }
   ],
   "source": [
    "test_df.shape"
   ]
  },
  {
   "cell_type": "code",
   "execution_count": 15,
   "metadata": {
    "collapsed": false
   },
   "outputs": [
    {
     "data": {
      "image/png": "[encoded data removed]",
      "text/plain": [
       "<matplotlib.figure.Figure at 0x1ec614eccf8>"
      ]
     },
     "metadata": {},
     "output_type": "display_data"
    }
   ],
   "source": [
    "def plotCorrelations(data):\n",
    "    plt.figure(figsize=(8, 6), dpi=500)\n",
    "    corr = data.corr()\n",
    "    sns.heatmap(corr, \n",
    "                xticklabels=corr.columns.values,\n",
    "                yticklabels=corr.columns.values)\n",
    "    \n",
    "plotCorrelations(train_df)"
   ]
  },
  {
   "cell_type": "code",
   "execution_count": 16,
   "metadata": {
    "collapsed": false
   },
   "outputs": [],
   "source": [
    "import sklearn.decomposition\n",
    "\n",
    "def performPCA():\n",
    "    global X_train\n",
    "    global X_test\n",
    "    pca = sklearn.decomposition.PCA(n_components = 30)\n",
    "    pca.fit(X_train)\n",
    "    X_train = pca.transform(X_train)\n",
    "    X_test = pca.transform(X_test)\n",
    "    \n",
    "#performPCA()"
   ]
  },
  {
   "cell_type": "markdown",
   "metadata": {},
   "source": [
    "### Normalize features"
   ]
  },
  {
   "cell_type": "code",
   "execution_count": 17,
   "metadata": {
    "collapsed": false
   },
   "outputs": [],
   "source": [
    "def featureNormalization():\n",
    "    global X_train\n",
    "    global X_test\n",
    "    \n",
    "    scaler = skpre.StandardScaler().fit(X_train)\n",
    "    X_train = scaler.transform(X_train)\n",
    "    X_test = scaler.transform(X_test)\n",
    "    \n",
    "#featureNormalization()"
   ]
  },
  {
   "cell_type": "markdown",
   "metadata": {},
   "source": [
    "## 3.1 - Model selection based on which models do best in CV using default settings:"
   ]
  },
  {
   "cell_type": "code",
   "execution_count": null,
   "metadata": {
    "collapsed": false
   },
   "outputs": [],
   "source": [
    "from sklearn.ensemble import RandomForestClassifier\n",
    "rf = RandomForestClassifier().fit(X_train, Y_train)"
   ]
  },
  {
   "cell_type": "code",
   "execution_count": null,
   "metadata": {
    "collapsed": false,
    "scrolled": true
   },
   "outputs": [],
   "source": [
    "X_train.columns.values"
   ]
  },
  {
   "cell_type": "code",
   "execution_count": null,
   "metadata": {
    "collapsed": false,
    "scrolled": true
   },
   "outputs": [],
   "source": [
    "rf.feature_importances_"
   ]
  },
  {
   "cell_type": "code",
   "execution_count": null,
   "metadata": {
    "collapsed": false
   },
   "outputs": [],
   "source": [
    "fe_v = [ 0.02744583,  0.15915509,  0.08051205,  0.04447052,  0.04513294,\n",
    "        0.04927782,  0.02358031,  0.03260846,  0.04214492,  0.03326136,\n",
    "        0.02448847,  0.02473819,  0.01179376,  0.04341354,  0.0080685 ,\n",
    "        0.01392277,  0.00560562,  0.04049034,  0.02264503,  0.00721319,\n",
    "        0.01633885,  0.01084221,  0.00328429,  0.03949145,  0.03993958,\n",
    "        0.0446234 ,  0.0149503 ,  0.02259267,  0.02316186,  0.04480668]\n",
    "\n",
    "fe_n = ['dur', 'proto', 'service', 'state', 'spkts', 'dpkts', 'sbytes',\n",
    "       'dbytes', 'rate', 'sttl', 'dttl', 'sload', 'dload', 'sloss', 'dloss',\n",
    "       'sinpkt', 'dinpkt', 'sjit', 'djit', 'swin', 'stcpb', 'dtcpb', 'dwin',\n",
    "       'tcprtt', 'synack', 'ackdat', 'smean', 'dmean', 'trans_depth',\n",
    "       'response_body_len', 'ct_srv_src', 'ct_state_ttl', 'ct_dst_ltm',\n",
    "       'ct_src_dport_ltm', 'ct_dst_sport_ltm', 'ct_dst_src_ltm',\n",
    "       'is_ftp_login', 'ct_ftp_cmd', 'ct_flw_http_mthd', 'ct_src_ltm',\n",
    "       'ct_srv_dst', 'is_sm_ips_ports']\n",
    "\n",
    "features = []\n",
    "for i in range(0, len(fe_v)):\n",
    "    features.append((fe_v[i], fe_n[i]))\n",
    "    \n",
    "features.sort(key = lambda x: x[0], reverse = True)\n",
    "features"
   ]
  },
  {
   "cell_type": "code",
   "execution_count": 20,
   "metadata": {
    "collapsed": false,
    "scrolled": true
   },
   "outputs": [
    {
     "name": "stdout",
     "output_type": "stream",
     "text": [
      "LR: 0.830000 (0.131482)\n",
      "LDA: 0.855500 (0.148903)\n",
      "KNN: 0.811625 (0.178227)\n",
      "CART: 0.865000 (0.118427)\n",
      "NB: 0.839750 (0.118038)\n"
     ]
    },
    {
     "name": "stderr",
     "output_type": "stream",
     "text": [
      "C:\\Users\\migsa\\Anaconda3\\lib\\site-packages\\sklearn\\discriminant_analysis.py:387: UserWarning: Variables are collinear.\n",
      "  warnings.warn(\"Variables are collinear.\")\n",
      "C:\\Users\\migsa\\Anaconda3\\lib\\site-packages\\sklearn\\discriminant_analysis.py:387: UserWarning: Variables are collinear.\n",
      "  warnings.warn(\"Variables are collinear.\")\n",
      "C:\\Users\\migsa\\Anaconda3\\lib\\site-packages\\sklearn\\discriminant_analysis.py:387: UserWarning: Variables are collinear.\n",
      "  warnings.warn(\"Variables are collinear.\")\n",
      "C:\\Users\\migsa\\Anaconda3\\lib\\site-packages\\sklearn\\discriminant_analysis.py:387: UserWarning: Variables are collinear.\n",
      "  warnings.warn(\"Variables are collinear.\")\n",
      "C:\\Users\\migsa\\Anaconda3\\lib\\site-packages\\sklearn\\discriminant_analysis.py:387: UserWarning: Variables are collinear.\n",
      "  warnings.warn(\"Variables are collinear.\")\n",
      "C:\\Users\\migsa\\Anaconda3\\lib\\site-packages\\sklearn\\discriminant_analysis.py:387: UserWarning: Variables are collinear.\n",
      "  warnings.warn(\"Variables are collinear.\")\n",
      "C:\\Users\\migsa\\Anaconda3\\lib\\site-packages\\sklearn\\discriminant_analysis.py:387: UserWarning: Variables are collinear.\n",
      "  warnings.warn(\"Variables are collinear.\")\n",
      "C:\\Users\\migsa\\Anaconda3\\lib\\site-packages\\sklearn\\discriminant_analysis.py:387: UserWarning: Variables are collinear.\n",
      "  warnings.warn(\"Variables are collinear.\")\n",
      "C:\\Users\\migsa\\Anaconda3\\lib\\site-packages\\sklearn\\discriminant_analysis.py:387: UserWarning: Variables are collinear.\n",
      "  warnings.warn(\"Variables are collinear.\")\n",
      "C:\\Users\\migsa\\Anaconda3\\lib\\site-packages\\sklearn\\discriminant_analysis.py:387: UserWarning: Variables are collinear.\n",
      "  warnings.warn(\"Variables are collinear.\")\n"
     ]
    },
    {
     "name": "stdout",
     "output_type": "stream",
     "text": [
      "NN: 0.664375 (0.137103)\n",
      "RF: 0.958500 (0.062502)\n",
      "AB: 0.946500 (0.071878)\n",
      "XGB: 0.948750 (0.069922)\n"
     ]
    },
    {
     "data": {
      "image/png": "[encoded data removed]",
      "text/plain": [
       "<matplotlib.figure.Figure at 0x1ec64f7e278>"
      ]
     },
     "metadata": {},
     "output_type": "display_data"
    }
   ],
   "source": [
    "#inspired in http://machinelearningmastery.com/compare-machine-learning-algorithms-python-scikit-learn/\n",
    "\n",
    "import sklearn.model_selection as mds\n",
    "from sklearn.linear_model import LogisticRegression\n",
    "from sklearn.tree import DecisionTreeClassifier\n",
    "from sklearn.neighbors import KNeighborsClassifier\n",
    "from sklearn.discriminant_analysis import LinearDiscriminantAnalysis\n",
    "from sklearn.naive_bayes import GaussianNB\n",
    "from sklearn.svm import SVC\n",
    "from sklearn.neural_network import MLPClassifier\n",
    "from sklearn.ensemble import RandomForestClassifier, AdaBoostClassifier\n",
    "import xgboost as xgb\n",
    "\n",
    "def modelSelection():\n",
    "\n",
    "    # prepare data\n",
    "\n",
    "    #Y_train = train_df[:,-1]\n",
    "    #X_train = train_df[:,:-1]\n",
    "\n",
    "    #Y_train = train_df[len(train_df.columns)-1]\n",
    "    #X_train = train_df.drop(len(train_df.columns)-1,axis=1)\n",
    "\n",
    "    # prepare configuration for cross validation test harness\n",
    "    num_folds = 10\n",
    "\n",
    "    # prepare models\n",
    "    models = []\n",
    "    models.append(('LR', LogisticRegression(random_state = 2)))\n",
    "    models.append(('LDA', LinearDiscriminantAnalysis()))\n",
    "    models.append(('KNN', KNeighborsClassifier()))\n",
    "    models.append(('CART', DecisionTreeClassifier(random_state = 2)))\n",
    "    models.append(('NB', GaussianNB()))\n",
    "    #models.append(('SVM-Linear', SVC(kernel=\"linear\")))\n",
    "    #models.append(('SVM-Poly', SVC(kernel=\"poly\")))\n",
    "    #models.append(('SVM-RBF', SVC(kernel=\"rbf\", random_state = 2)))\n",
    "    models.append(('NN', MLPClassifier(random_state = 2))) \n",
    "    models.append(('RF', RandomForestClassifier(criterion=\"entropy\", n_estimators=47, random_state = 2)))\n",
    "    models.append(('AB', AdaBoostClassifier(random_state = 2)))\n",
    "    models.append(('XGB', xgb.XGBClassifier()))\n",
    "\n",
    "    # evaluate each model in turn\n",
    "    results = []\n",
    "    scoring = 'roc_auc' # try with 'roc_auc', f1'\n",
    "\n",
    "    for model_name, model in models:\n",
    "        kfold = mds.StratifiedKFold(n_splits=num_folds, shuffle=True, random_state=2)\n",
    "        cv_results = mds.cross_val_score(model, X_train, Y_train, cv=kfold, scoring=scoring)\n",
    "        results.append({\"name\": model_name, \"cv_results\": cv_results, \"mean\": cv_results.mean(), \"std\": cv_results.std()})\n",
    "        print(\"%s: %f (%f)\" % (model_name, cv_results.mean(), cv_results.std()))\n",
    "\n",
    "    # boxplot algorithm comparison\n",
    "    fig = plt.figure(figsize=(13, 5), dpi=500)\n",
    "    fig.suptitle('Algorithm Comparison')\n",
    "    ax = fig.add_subplot(111)\n",
    "    plt.boxplot([x[\"cv_results\"] for x in results])\n",
    "    ax.set_xticklabels([x[\"name\"] for x in results])\n",
    "    plt.show()\n",
    "\n",
    "    # order the models by the mean auc\n",
    "    #results_by_strategy.sort(key=lambda x: x[\"mean\"], reverse=True)\n",
    "    #print([(x[\"name\"], x[\"mean\"]) for x in results])\n",
    "\n",
    "modelSelection()"
   ]
  },
  {
   "cell_type": "markdown",
   "metadata": {},
   "source": [
    "## 3.2 - Model selection based on anomaly detection techniques"
   ]
  },
  {
   "cell_type": "code",
   "execution_count": null,
   "metadata": {
    "collapsed": false
   },
   "outputs": [],
   "source": [
    "import sklearn.ensemble\n",
    "import sklearn.covariance\n",
    "from sklearn import svm\n",
    "import sklearn.metrics\n",
    "\n",
    "def modelSelectionAnomaly():\n",
    "    np.random.seed(2)\n",
    "    ids_not_anomaly = np.random.choice(range(0, X_train.shape[0]), size = 41, replace = False)\n",
    "    X_train_normal = X_train.values[ids_not_anomaly, :]\n",
    "    Y_train_normal = Y_train[ids_not_anomaly]\n",
    "    \n",
    "    #model = sklearn.ensemble.IsolationForest(n_estimators = 60, contamination = 0.4, random_state = 2)\n",
    "    model = svm.OneClassSVM(nu=0.3, kernel=\"linear\", gamma=0.1, random_state = 2)\n",
    "    #model = svm.OneClassSVM(nu=0.07, kernel=\"rbf\", gamma=0.4, random_state = 2)\n",
    "    #model = sklearn.covariance.EllipticEnvelope()\n",
    "    \n",
    "    model.fit(X_train[(Y_train != 1).values])\n",
    "    anomaly_results = model.predict(X_train[(Y_train == 1).values])\n",
    "    normal_results = model.predict(X_train_normal)\n",
    "    \n",
    "    print(\"%f %% of the anomalies were correctly classified\" % (sum(anomaly_results == -1)/len(anomaly_results)))\n",
    "    print(\"%f %% of the ok instances were correctly classified\" % (sum(normal_results == 1)/len(normal_results)))\n",
    "    print(\"ROC: %f\" % \n",
    "          sklearn.metrics.roc_auc_score(np.append(np.repeat(-1, 41), np.repeat(1, 41)), np.append(anomaly_results, normal_results)))\n",
    "    \n",
    "modelSelectionAnomaly()"
   ]
  },
  {
   "cell_type": "markdown",
   "metadata": {},
   "source": [
    "# 4 - Submission to Kaggle"
   ]
  },
  {
   "cell_type": "code",
   "execution_count": 19,
   "metadata": {
    "collapsed": false
   },
   "outputs": [],
   "source": [
    "from sklearn.ensemble import RandomForestClassifier\n",
    "\n",
    "# choose algorithm\n",
    "def makeSubmissionKaggle(algorithm):\n",
    "    algorithm.fit(X_train, Y_train)\n",
    "    Y_pred = algorithm.predict(X_test)\n",
    "    Y_pred = Y_pred.astype(int)\n",
    "\n",
    "    # save data to CSV\n",
    "    saveDataToCSV(Y_pred)\n",
    "    \n",
    "def makeSubmissionAnomalyKaggle(algorithm):\n",
    "    algorithm.fit(X_train, Y_train)\n",
    "    Y_pred = algorithm.predict(X_test)\n",
    "    Y_pred = Y_pred.astype(int)\n",
    "    Y_pred = [1 if x == 1 else 0 for x in Y_pred]\n",
    "\n",
    "    # save data to CSV\n",
    "    saveDataToCSV(Y_pred)\n",
    "    \n",
    "#makeSubmissionKaggle(\"07-spec-mean\", xgb.XGBClassifier( learning_rate=0.01, n_estimators=5000, max_depth=7,\n",
    "#                      min_child_weight=1, gamma=0, subsample=0.55, colsample_bytree=0.85,\n",
    "#                      reg_alpha=1e-5, objective= 'binary:logistic', scale_pos_weight=1, seed=2))\n",
    "\n",
    "makeSubmissionKaggle(RandomForestClassifier(criterion=\"entropy\", n_estimators=47, random_state = 2))\n",
    "#makeSubmissionKaggle(xgb.XGBClassifier())\n",
    "\n",
    "#makeSubmissionKaggle(\"09-spec-min\", LinearDiscriminantAnalysis(n_components = 1, shrinkage = \"auto\", solver=\"lsqr\"))\n",
    "#makeSubmissionKaggle(RandomForestClassifier(criterion = 'entropy', max_features = 'log2', n_estimators = 630))\n",
    "#makeSubmissionKaggle(RandomForestClassifier(criterion = 'entropy', max_features = 'log2', n_estimators = 310))\n",
    "#makeSubmissionAnomalyKaggle(svm.OneClassSVM(nu=0.07, kernel=\"linear\", gamma=0.1, random_state = 2))\n",
    "#makeSubmissionKaggle(svm.OneClassSVM(nu=0.07, kernel=\"poly\", gamma=0.1, random_state = 2))\n",
    "#makeSubmissionAnomalyKaggle(sklearn.ensemble.IsolationForest(contamination = 0.4, random_state = 2))\n",
    "#makeSubmissionKaggle(RandomForestClassifier())"
   ]
  },
  {
   "cell_type": "code",
   "execution_count": null,
   "metadata": {
    "collapsed": true
   },
   "outputs": [],
   "source": []
  }
 ],
 "metadata": {
  "anaconda-cloud": {},
  "kernelspec": {
   "display_name": "Python [default]",
   "language": "python",
   "name": "python3"
  },
  "language_info": {
   "codemirror_mode": {
    "name": "ipython",
    "version": 3
   },
   "file_extension": ".py",
   "mimetype": "text/x-python",
   "name": "python",
   "nbconvert_exporter": "python",
   "pygments_lexer": "ipython3",
   "version": "3.5.2"
  }
 },
 "nbformat": 4,
 "nbformat_minor": 1
}
