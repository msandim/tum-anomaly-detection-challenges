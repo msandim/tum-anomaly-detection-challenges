{
 "cells": [
  {
   "cell_type": "code",
   "execution_count": 1,
   "metadata": {
    "collapsed": false
   },
   "outputs": [],
   "source": [
    "# pandas\n",
    "import pandas as pd\n",
    "from pandas import Series,DataFrame\n",
    "from collections import Counter\n",
    "\n",
    "# numpy, matplotlib, seaborn\n",
    "import numpy as np\n",
    "import matplotlib.pyplot as plt\n",
    "import seaborn as sns\n",
    "%matplotlib inline\n",
    "\n",
    "# Random libraries and seeds:\n",
    "import random\n",
    "random.seed(2)\n",
    "np.random.seed(2)\n",
    "\n",
    "# read from csv"
   ]
  },
  {
   "cell_type": "code",
   "execution_count": 2,
   "metadata": {
    "collapsed": true
   },
   "outputs": [],
   "source": [
    "train_df = pd.read_csv(\"data/yelp_data_train.dat\", sep = ';', encoding = 'utf-8')\n",
    "test_df = pd.read_csv(\"data/yelp_data_test.dat\", sep = ';', encoding = 'utf-8')\n",
    "reviewers_df = pd.read_csv(\"data/yelp_data_reviewer.dat\", sep = ';', encoding = 'utf-8')\n",
    "hotels_df = pd.read_csv(\"data/yelp_data_hotel.dat\", sep = ';', encoding = 'utf-8')"
   ]
  },
  {
   "cell_type": "code",
   "execution_count": 3,
   "metadata": {
    "collapsed": false
   },
   "outputs": [],
   "source": [
    "# http://scikit-learn.org/stable/tutorial/text_analytics/working_with_text_data.html"
   ]
  },
  {
   "cell_type": "code",
   "execution_count": 4,
   "metadata": {
    "collapsed": false
   },
   "outputs": [],
   "source": [
    "#drop text with nan\n",
    "train_df.set_value(2550, 'reviewContent', ' ')\n",
    "\n",
    "# add feature with lenght of the message\n",
    "train_df['text_length'] = train_df['reviewContent'].str.len() \n",
    "\n",
    "train_df['word_count'] = train_df.reviewContent.str.count(' ')\n"
   ]
  },
  {
   "cell_type": "code",
   "execution_count": 5,
   "metadata": {
    "collapsed": false
   },
   "outputs": [],
   "source": [
    "# put in lower case\n",
    "train_df['reviewContent'] = train_df['reviewContent'].str.lower()"
   ]
  },
  {
   "cell_type": "code",
   "execution_count": 15,
   "metadata": {
    "collapsed": false
   },
   "outputs": [],
   "source": [
    "# bag of words based in the words referenced in the paper\n",
    " \n",
    "personal_pronouns = ['i', 'we', 'me', 'us', 'my', 'mine', 'our', 'ours']\n",
    "associated_actions = ['went', 'feel']\n",
    "targets = ['area', 'options', 'price', 'stay']\n",
    "emotion_words = ['nice', 'deal', 'comfort', 'helpful']\n",
    "\n",
    "import collections, re\n",
    "\n",
    "train_df['reviewContent'] = train_df['reviewContent'].str.replace('\\xa0',' ')\n",
    "texts = list(train_df.reviewContent)\n",
    "bagsofwords = [collections.Counter(re.findall(r'\\w+', txt)) \n",
    "               for txt in texts]\n",
    "\n",
    "def count_words(word_list, attribute_name):\n",
    "    train_df[attribute_name] = np.nan\n",
    "    for i in range(0, train_df.shape[0]):\n",
    "        num = 0\n",
    "        for word in word_list:\n",
    "            num += bagsofwords[i][word]\n",
    "        train_df.set_value(i, attribute_name, num)\n",
    "        \n",
    "count_words(personal_pronouns, 'count_pronouns')\n",
    "count_words(associated_actions, 'count_associated_actions')\n",
    "count_words(targets, 'count_targets')\n",
    "count_words(emotion_words, 'count_emotion_words')"
   ]
  },
  {
   "cell_type": "code",
   "execution_count": 20,
   "metadata": {
    "collapsed": false
   },
   "outputs": [
    {
     "name": "stdout",
     "output_type": "stream",
     "text": [
      "       date                reviewID              reviewerID  \\\n",
      "1  2/5/2010  i4HIAcNTjabdpG1K4F5Q2g  Sb3DJGdZ4Rq__CqxPbae-g   \n",
      "\n",
      "                                       reviewContent  rating  usefulCount  \\\n",
      "1  this place is disgusting, absolutely horrible,...       3           11   \n",
      "\n",
      "   coolCount  funnyCount fake                 hotelID  text_length  \\\n",
      "1          4           9    N  tQfLGoolUMu2J0igcWcoZg          251   \n",
      "\n",
      "   word_count  pronouns  count_pronouns_1p  count_associated_actions  \\\n",
      "1          48       0.0                5.0                       0.0   \n",
      "\n",
      "   count_targets  count_emotion_words  \n",
      "1            2.0                  0.0  \n",
      "1    this place is disgusting, absolutely horrible,...\n",
      "Name: reviewContent, dtype: object\n"
     ]
    }
   ],
   "source": [
    "print(train_df[1:2])\n",
    "print(train_df.reviewContent[1:2])"
   ]
  }
 ],
 "metadata": {
  "anaconda-cloud": {},
  "kernelspec": {
   "display_name": "Python [default]",
   "language": "python",
   "name": "python3"
  },
  "language_info": {
   "codemirror_mode": {
    "name": "ipython",
    "version": 3
   },
   "file_extension": ".py",
   "mimetype": "text/x-python",
   "name": "python",
   "nbconvert_exporter": "python",
   "pygments_lexer": "ipython3",
   "version": "3.5.2"
  }
 },
 "nbformat": 4,
 "nbformat_minor": 1
}
