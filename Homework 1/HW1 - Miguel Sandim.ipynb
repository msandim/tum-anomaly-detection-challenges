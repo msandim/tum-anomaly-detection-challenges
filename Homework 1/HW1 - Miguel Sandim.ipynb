{
 "cells": [
  {
   "cell_type": "markdown",
   "metadata": {},
   "source": [
    "# Homework 1 - Anomaly Detection Challenges 2016/2017\n",
    "### Miguel Sandim"
   ]
  },
  {
   "cell_type": "code",
   "execution_count": 1,
   "metadata": {
    "collapsed": true
   },
   "outputs": [],
   "source": [
    "# Configurations\n",
    "import matplotlib\n",
    "import numpy as np\n",
    "import pandas as pd\n",
    "import matplotlib.pyplot as plt\n",
    "import seaborn as sns\n",
    "import time\n",
    "\n",
    "np.random.seed(42)\n",
    "%matplotlib inline\n",
    "\n",
    "# From: http://scikit-learn.org/stable/auto_examples/model_selection/plot_confusion_matrix.html\n",
    "import itertools\n",
    "def plot_confusion_matrix(cm, classes,\n",
    "                          normalize=False,\n",
    "                          title='Confusion matrix',\n",
    "                          cmap=plt.cm.Blues):\n",
    "    \"\"\"\n",
    "    This function prints and plots the confusion matrix.\n",
    "    Normalization can be applied by setting `normalize=True`.\n",
    "    \"\"\"\n",
    "    plt.imshow(cm, interpolation='nearest', cmap=cmap)\n",
    "    plt.title(title)\n",
    "    plt.colorbar()\n",
    "    tick_marks = np.arange(len(classes))\n",
    "    plt.xticks(tick_marks, classes, rotation=45)\n",
    "    plt.yticks(tick_marks, classes)\n",
    "\n",
    "    if normalize:\n",
    "        cm = cm.astype('float') / cm.sum(axis=1)[:, np.newaxis]\n",
    "        print(\"Normalized confusion matrix\")\n",
    "    else:\n",
    "        print('Confusion matrix, without normalization')\n",
    "\n",
    "    print(cm)\n",
    "\n",
    "    thresh = cm.max() / 2.\n",
    "    for i, j in itertools.product(range(cm.shape[0]), range(cm.shape[1])):\n",
    "        plt.text(j, i, cm[i, j],\n",
    "                 horizontalalignment=\"center\",\n",
    "                 color=\"white\" if cm[i, j] > thresh else \"black\")\n",
    "\n",
    "    plt.tight_layout()\n",
    "    plt.ylabel('True label')\n",
    "    plt.xlabel('Predicted label')"
   ]
  },
  {
   "cell_type": "markdown",
   "metadata": {},
   "source": [
    "## 0. Loading the data and transforming it into a pandas dataframe:"
   ]
  },
  {
   "cell_type": "code",
   "execution_count": 2,
   "metadata": {
    "collapsed": false
   },
   "outputs": [],
   "source": [
    "# Load the data\n",
    "import scipy.io\n",
    "data_mat = scipy.io.loadmat(\"data/oc_514.mat\")"
   ]
  },
  {
   "cell_type": "code",
   "execution_count": 3,
   "metadata": {
    "collapsed": false
   },
   "outputs": [
    {
     "data": {
      "text/plain": [
       "scipy.io.matlab.mio5_params.MatlabObject"
      ]
     },
     "execution_count": 3,
     "metadata": {},
     "output_type": "execute_result"
    }
   ],
   "source": [
    "type(data_mat['x'])"
   ]
  },
  {
   "cell_type": "code",
   "execution_count": 4,
   "metadata": {
    "collapsed": false
   },
   "outputs": [],
   "source": [
    "data_mat = data_mat['x'][0,0]"
   ]
  },
  {
   "cell_type": "code",
   "execution_count": 5,
   "metadata": {
    "collapsed": false
   },
   "outputs": [],
   "source": [
    "#for i,x in enumerate(data_mat):\n",
    "#    print(i)\n",
    "#    print(type(x))\n",
    "#    print(x)\n",
    "#    print(\"**************************************************************************\")"
   ]
  },
  {
   "cell_type": "markdown",
   "metadata": {},
   "source": [
    "### For what I understood this structure has the following contents:\n",
    "- Index 0 has the features' values\n",
    "- Index 2 has the class values for each instance\n",
    "- Index 5 has the features' names"
   ]
  },
  {
   "cell_type": "code",
   "execution_count": 6,
   "metadata": {
    "collapsed": false,
    "scrolled": true
   },
   "outputs": [],
   "source": [
    "dataset = pd.DataFrame(np.hstack((data_mat[0],data_mat[2])), columns = np.append([x.strip() for x in data_mat[5]], [\"class\"]))"
   ]
  },
  {
   "cell_type": "code",
   "execution_count": 7,
   "metadata": {
    "collapsed": false
   },
   "outputs": [],
   "source": [
    "dataset[\"class\"] = dataset[\"class\"].astype(\"category\")\n",
    "dataset[\"class\"].cat.rename_categories([\"anomaly\", \"ok\"], inplace = True)"
   ]
  },
  {
   "cell_type": "code",
   "execution_count": 8,
   "metadata": {
    "collapsed": false,
    "scrolled": true
   },
   "outputs": [
    {
     "data": {
      "text/html": [
       "<div>\n",
       "<table border=\"1\" class=\"dataframe\">\n",
       "  <thead>\n",
       "    <tr style=\"text-align: right;\">\n",
       "      <th></th>\n",
       "      <th>age</th>\n",
       "      <th>sex</th>\n",
       "      <th>height</th>\n",
       "      <th>weight</th>\n",
       "      <th>QRS duration</th>\n",
       "      <th>P-R interval</th>\n",
       "      <th>Q-T interval</th>\n",
       "      <th>T interval</th>\n",
       "      <th>P interval</th>\n",
       "      <th>QRS</th>\n",
       "      <th>...</th>\n",
       "      <th>V6-Q wave ampl</th>\n",
       "      <th>V6-R wave ampl</th>\n",
       "      <th>V6-S wave ampl</th>\n",
       "      <th>V6-R' wave ampl</th>\n",
       "      <th>V6-S' wave ampl</th>\n",
       "      <th>V6-P wave ampl</th>\n",
       "      <th>V6-T wave ampl</th>\n",
       "      <th>V6-QRSA sum</th>\n",
       "      <th>V6-QRSTA</th>\n",
       "      <th>class</th>\n",
       "    </tr>\n",
       "  </thead>\n",
       "  <tbody>\n",
       "    <tr>\n",
       "      <th>0</th>\n",
       "      <td>75.0</td>\n",
       "      <td>0.0</td>\n",
       "      <td>190.0</td>\n",
       "      <td>80.0</td>\n",
       "      <td>91.0</td>\n",
       "      <td>193.0</td>\n",
       "      <td>371.0</td>\n",
       "      <td>174.0</td>\n",
       "      <td>121.0</td>\n",
       "      <td>-16.0</td>\n",
       "      <td>...</td>\n",
       "      <td>0.0</td>\n",
       "      <td>9.0</td>\n",
       "      <td>-0.9</td>\n",
       "      <td>0.0</td>\n",
       "      <td>0.0</td>\n",
       "      <td>0.9</td>\n",
       "      <td>2.9</td>\n",
       "      <td>23.3</td>\n",
       "      <td>49.4</td>\n",
       "      <td>anomaly</td>\n",
       "    </tr>\n",
       "    <tr>\n",
       "      <th>1</th>\n",
       "      <td>56.0</td>\n",
       "      <td>1.0</td>\n",
       "      <td>165.0</td>\n",
       "      <td>64.0</td>\n",
       "      <td>81.0</td>\n",
       "      <td>174.0</td>\n",
       "      <td>401.0</td>\n",
       "      <td>149.0</td>\n",
       "      <td>39.0</td>\n",
       "      <td>25.0</td>\n",
       "      <td>...</td>\n",
       "      <td>0.0</td>\n",
       "      <td>8.5</td>\n",
       "      <td>0.0</td>\n",
       "      <td>0.0</td>\n",
       "      <td>0.0</td>\n",
       "      <td>0.2</td>\n",
       "      <td>2.1</td>\n",
       "      <td>20.4</td>\n",
       "      <td>38.8</td>\n",
       "      <td>anomaly</td>\n",
       "    </tr>\n",
       "    <tr>\n",
       "      <th>2</th>\n",
       "      <td>54.0</td>\n",
       "      <td>0.0</td>\n",
       "      <td>172.0</td>\n",
       "      <td>95.0</td>\n",
       "      <td>138.0</td>\n",
       "      <td>163.0</td>\n",
       "      <td>386.0</td>\n",
       "      <td>185.0</td>\n",
       "      <td>102.0</td>\n",
       "      <td>96.0</td>\n",
       "      <td>...</td>\n",
       "      <td>0.0</td>\n",
       "      <td>9.5</td>\n",
       "      <td>-2.4</td>\n",
       "      <td>0.0</td>\n",
       "      <td>0.0</td>\n",
       "      <td>0.3</td>\n",
       "      <td>3.4</td>\n",
       "      <td>12.3</td>\n",
       "      <td>49.0</td>\n",
       "      <td>anomaly</td>\n",
       "    </tr>\n",
       "    <tr>\n",
       "      <th>3</th>\n",
       "      <td>55.0</td>\n",
       "      <td>0.0</td>\n",
       "      <td>175.0</td>\n",
       "      <td>94.0</td>\n",
       "      <td>100.0</td>\n",
       "      <td>202.0</td>\n",
       "      <td>380.0</td>\n",
       "      <td>179.0</td>\n",
       "      <td>143.0</td>\n",
       "      <td>28.0</td>\n",
       "      <td>...</td>\n",
       "      <td>0.0</td>\n",
       "      <td>12.2</td>\n",
       "      <td>-2.2</td>\n",
       "      <td>0.0</td>\n",
       "      <td>0.0</td>\n",
       "      <td>0.4</td>\n",
       "      <td>2.6</td>\n",
       "      <td>34.6</td>\n",
       "      <td>61.6</td>\n",
       "      <td>ok</td>\n",
       "    </tr>\n",
       "    <tr>\n",
       "      <th>4</th>\n",
       "      <td>13.0</td>\n",
       "      <td>0.0</td>\n",
       "      <td>169.0</td>\n",
       "      <td>51.0</td>\n",
       "      <td>100.0</td>\n",
       "      <td>167.0</td>\n",
       "      <td>321.0</td>\n",
       "      <td>174.0</td>\n",
       "      <td>91.0</td>\n",
       "      <td>107.0</td>\n",
       "      <td>...</td>\n",
       "      <td>-0.6</td>\n",
       "      <td>12.2</td>\n",
       "      <td>-2.8</td>\n",
       "      <td>0.0</td>\n",
       "      <td>0.0</td>\n",
       "      <td>0.9</td>\n",
       "      <td>2.2</td>\n",
       "      <td>13.5</td>\n",
       "      <td>31.1</td>\n",
       "      <td>anomaly</td>\n",
       "    </tr>\n",
       "  </tbody>\n",
       "</table>\n",
       "<p>5 rows × 279 columns</p>\n",
       "</div>"
      ],
      "text/plain": [
       "    age  sex  height  weight  QRS duration  P-R interval  Q-T interval  \\\n",
       "0  75.0  0.0   190.0    80.0          91.0         193.0         371.0   \n",
       "1  56.0  1.0   165.0    64.0          81.0         174.0         401.0   \n",
       "2  54.0  0.0   172.0    95.0         138.0         163.0         386.0   \n",
       "3  55.0  0.0   175.0    94.0         100.0         202.0         380.0   \n",
       "4  13.0  0.0   169.0    51.0         100.0         167.0         321.0   \n",
       "\n",
       "   T interval  P interval    QRS   ...     V6-Q wave ampl  V6-R wave ampl  \\\n",
       "0       174.0       121.0  -16.0   ...                0.0             9.0   \n",
       "1       149.0        39.0   25.0   ...                0.0             8.5   \n",
       "2       185.0       102.0   96.0   ...                0.0             9.5   \n",
       "3       179.0       143.0   28.0   ...                0.0            12.2   \n",
       "4       174.0        91.0  107.0   ...               -0.6            12.2   \n",
       "\n",
       "   V6-S wave ampl  V6-R' wave ampl  V6-S' wave ampl  V6-P wave ampl  \\\n",
       "0            -0.9              0.0              0.0             0.9   \n",
       "1             0.0              0.0              0.0             0.2   \n",
       "2            -2.4              0.0              0.0             0.3   \n",
       "3            -2.2              0.0              0.0             0.4   \n",
       "4            -2.8              0.0              0.0             0.9   \n",
       "\n",
       "   V6-T wave ampl  V6-QRSA sum  V6-QRSTA    class  \n",
       "0             2.9         23.3      49.4  anomaly  \n",
       "1             2.1         20.4      38.8  anomaly  \n",
       "2             3.4         12.3      49.0  anomaly  \n",
       "3             2.6         34.6      61.6       ok  \n",
       "4             2.2         13.5      31.1  anomaly  \n",
       "\n",
       "[5 rows x 279 columns]"
      ]
     },
     "execution_count": 8,
     "metadata": {},
     "output_type": "execute_result"
    }
   ],
   "source": [
    "dataset.head()"
   ]
  },
  {
   "cell_type": "code",
   "execution_count": 9,
   "metadata": {
    "collapsed": false,
    "scrolled": true
   },
   "outputs": [
    {
     "data": {
      "text/html": [
       "<div>\n",
       "<table border=\"1\" class=\"dataframe\">\n",
       "  <thead>\n",
       "    <tr style=\"text-align: right;\">\n",
       "      <th></th>\n",
       "      <th>age</th>\n",
       "      <th>sex</th>\n",
       "      <th>height</th>\n",
       "      <th>weight</th>\n",
       "      <th>QRS duration</th>\n",
       "      <th>P-R interval</th>\n",
       "      <th>Q-T interval</th>\n",
       "      <th>T interval</th>\n",
       "      <th>P interval</th>\n",
       "      <th>QRS</th>\n",
       "      <th>...</th>\n",
       "      <th>V6-JJ wave ampl</th>\n",
       "      <th>V6-Q wave ampl</th>\n",
       "      <th>V6-R wave ampl</th>\n",
       "      <th>V6-S wave ampl</th>\n",
       "      <th>V6-R' wave ampl</th>\n",
       "      <th>V6-S' wave ampl</th>\n",
       "      <th>V6-P wave ampl</th>\n",
       "      <th>V6-T wave ampl</th>\n",
       "      <th>V6-QRSA sum</th>\n",
       "      <th>V6-QRSTA</th>\n",
       "    </tr>\n",
       "  </thead>\n",
       "  <tbody>\n",
       "    <tr>\n",
       "      <th>count</th>\n",
       "      <td>420.000000</td>\n",
       "      <td>420.000000</td>\n",
       "      <td>420.000000</td>\n",
       "      <td>420.000000</td>\n",
       "      <td>420.000000</td>\n",
       "      <td>420.000000</td>\n",
       "      <td>420.000000</td>\n",
       "      <td>420.000000</td>\n",
       "      <td>420.000000</td>\n",
       "      <td>420.000000</td>\n",
       "      <td>...</td>\n",
       "      <td>420.000000</td>\n",
       "      <td>420.000000</td>\n",
       "      <td>420.000000</td>\n",
       "      <td>420.000000</td>\n",
       "      <td>420.000000</td>\n",
       "      <td>420.0</td>\n",
       "      <td>420.000000</td>\n",
       "      <td>420.000000</td>\n",
       "      <td>420.000000</td>\n",
       "      <td>420.000000</td>\n",
       "    </tr>\n",
       "    <tr>\n",
       "      <th>mean</th>\n",
       "      <td>46.050000</td>\n",
       "      <td>0.559524</td>\n",
       "      <td>166.159524</td>\n",
       "      <td>67.657143</td>\n",
       "      <td>88.900000</td>\n",
       "      <td>158.935714</td>\n",
       "      <td>367.559524</td>\n",
       "      <td>170.166667</td>\n",
       "      <td>91.876190</td>\n",
       "      <td>33.273810</td>\n",
       "      <td>...</td>\n",
       "      <td>-0.282381</td>\n",
       "      <td>-0.274762</td>\n",
       "      <td>9.022619</td>\n",
       "      <td>-1.487143</td>\n",
       "      <td>0.003095</td>\n",
       "      <td>0.0</td>\n",
       "      <td>0.544286</td>\n",
       "      <td>1.270952</td>\n",
       "      <td>19.109524</td>\n",
       "      <td>29.618333</td>\n",
       "    </tr>\n",
       "    <tr>\n",
       "      <th>std</th>\n",
       "      <td>16.387168</td>\n",
       "      <td>0.497036</td>\n",
       "      <td>38.496515</td>\n",
       "      <td>16.633967</td>\n",
       "      <td>15.651774</td>\n",
       "      <td>36.612571</td>\n",
       "      <td>33.129078</td>\n",
       "      <td>35.837885</td>\n",
       "      <td>21.822541</td>\n",
       "      <td>46.094422</td>\n",
       "      <td>...</td>\n",
       "      <td>0.606901</td>\n",
       "      <td>0.530125</td>\n",
       "      <td>3.452782</td>\n",
       "      <td>2.046704</td>\n",
       "      <td>0.045984</td>\n",
       "      <td>0.0</td>\n",
       "      <td>0.323009</td>\n",
       "      <td>1.410061</td>\n",
       "      <td>13.651475</td>\n",
       "      <td>18.584817</td>\n",
       "    </tr>\n",
       "    <tr>\n",
       "      <th>min</th>\n",
       "      <td>0.000000</td>\n",
       "      <td>0.000000</td>\n",
       "      <td>105.000000</td>\n",
       "      <td>6.000000</td>\n",
       "      <td>55.000000</td>\n",
       "      <td>0.000000</td>\n",
       "      <td>232.000000</td>\n",
       "      <td>111.000000</td>\n",
       "      <td>0.000000</td>\n",
       "      <td>-172.000000</td>\n",
       "      <td>...</td>\n",
       "      <td>-5.600000</td>\n",
       "      <td>-4.100000</td>\n",
       "      <td>0.000000</td>\n",
       "      <td>-28.600000</td>\n",
       "      <td>0.000000</td>\n",
       "      <td>0.0</td>\n",
       "      <td>-0.800000</td>\n",
       "      <td>-6.000000</td>\n",
       "      <td>-44.200000</td>\n",
       "      <td>-38.600000</td>\n",
       "    </tr>\n",
       "    <tr>\n",
       "      <th>25%</th>\n",
       "      <td>36.000000</td>\n",
       "      <td>0.000000</td>\n",
       "      <td>160.000000</td>\n",
       "      <td>59.000000</td>\n",
       "      <td>80.000000</td>\n",
       "      <td>143.000000</td>\n",
       "      <td>350.000000</td>\n",
       "      <td>148.000000</td>\n",
       "      <td>79.750000</td>\n",
       "      <td>2.750000</td>\n",
       "      <td>...</td>\n",
       "      <td>-0.500000</td>\n",
       "      <td>-0.425000</td>\n",
       "      <td>6.600000</td>\n",
       "      <td>-2.100000</td>\n",
       "      <td>0.000000</td>\n",
       "      <td>0.0</td>\n",
       "      <td>0.400000</td>\n",
       "      <td>0.600000</td>\n",
       "      <td>11.100000</td>\n",
       "      <td>17.750000</td>\n",
       "    </tr>\n",
       "    <tr>\n",
       "      <th>50%</th>\n",
       "      <td>46.000000</td>\n",
       "      <td>1.000000</td>\n",
       "      <td>164.000000</td>\n",
       "      <td>68.000000</td>\n",
       "      <td>86.000000</td>\n",
       "      <td>157.000000</td>\n",
       "      <td>367.500000</td>\n",
       "      <td>162.500000</td>\n",
       "      <td>91.000000</td>\n",
       "      <td>40.000000</td>\n",
       "      <td>...</td>\n",
       "      <td>-0.200000</td>\n",
       "      <td>0.000000</td>\n",
       "      <td>8.700000</td>\n",
       "      <td>-1.200000</td>\n",
       "      <td>0.000000</td>\n",
       "      <td>0.0</td>\n",
       "      <td>0.500000</td>\n",
       "      <td>1.400000</td>\n",
       "      <td>18.000000</td>\n",
       "      <td>28.100000</td>\n",
       "    </tr>\n",
       "    <tr>\n",
       "      <th>75%</th>\n",
       "      <td>58.000000</td>\n",
       "      <td>1.000000</td>\n",
       "      <td>170.000000</td>\n",
       "      <td>78.000000</td>\n",
       "      <td>94.000000</td>\n",
       "      <td>174.000000</td>\n",
       "      <td>384.000000</td>\n",
       "      <td>178.000000</td>\n",
       "      <td>102.000000</td>\n",
       "      <td>66.000000</td>\n",
       "      <td>...</td>\n",
       "      <td>0.000000</td>\n",
       "      <td>0.000000</td>\n",
       "      <td>11.200000</td>\n",
       "      <td>0.000000</td>\n",
       "      <td>0.000000</td>\n",
       "      <td>0.0</td>\n",
       "      <td>0.700000</td>\n",
       "      <td>2.100000</td>\n",
       "      <td>25.800000</td>\n",
       "      <td>41.225000</td>\n",
       "    </tr>\n",
       "    <tr>\n",
       "      <th>max</th>\n",
       "      <td>83.000000</td>\n",
       "      <td>1.000000</td>\n",
       "      <td>780.000000</td>\n",
       "      <td>176.000000</td>\n",
       "      <td>188.000000</td>\n",
       "      <td>524.000000</td>\n",
       "      <td>509.000000</td>\n",
       "      <td>381.000000</td>\n",
       "      <td>205.000000</td>\n",
       "      <td>169.000000</td>\n",
       "      <td>...</td>\n",
       "      <td>2.700000</td>\n",
       "      <td>0.000000</td>\n",
       "      <td>23.600000</td>\n",
       "      <td>0.000000</td>\n",
       "      <td>0.800000</td>\n",
       "      <td>0.0</td>\n",
       "      <td>2.400000</td>\n",
       "      <td>6.000000</td>\n",
       "      <td>88.800000</td>\n",
       "      <td>115.900000</td>\n",
       "    </tr>\n",
       "  </tbody>\n",
       "</table>\n",
       "<p>8 rows × 278 columns</p>\n",
       "</div>"
      ],
      "text/plain": [
       "              age         sex      height      weight  QRS duration  \\\n",
       "count  420.000000  420.000000  420.000000  420.000000    420.000000   \n",
       "mean    46.050000    0.559524  166.159524   67.657143     88.900000   \n",
       "std     16.387168    0.497036   38.496515   16.633967     15.651774   \n",
       "min      0.000000    0.000000  105.000000    6.000000     55.000000   \n",
       "25%     36.000000    0.000000  160.000000   59.000000     80.000000   \n",
       "50%     46.000000    1.000000  164.000000   68.000000     86.000000   \n",
       "75%     58.000000    1.000000  170.000000   78.000000     94.000000   \n",
       "max     83.000000    1.000000  780.000000  176.000000    188.000000   \n",
       "\n",
       "       P-R interval  Q-T interval  T interval  P interval         QRS  \\\n",
       "count    420.000000    420.000000  420.000000  420.000000  420.000000   \n",
       "mean     158.935714    367.559524  170.166667   91.876190   33.273810   \n",
       "std       36.612571     33.129078   35.837885   21.822541   46.094422   \n",
       "min        0.000000    232.000000  111.000000    0.000000 -172.000000   \n",
       "25%      143.000000    350.000000  148.000000   79.750000    2.750000   \n",
       "50%      157.000000    367.500000  162.500000   91.000000   40.000000   \n",
       "75%      174.000000    384.000000  178.000000  102.000000   66.000000   \n",
       "max      524.000000    509.000000  381.000000  205.000000  169.000000   \n",
       "\n",
       "          ...      V6-JJ wave ampl  V6-Q wave ampl  V6-R wave ampl  \\\n",
       "count     ...           420.000000      420.000000      420.000000   \n",
       "mean      ...            -0.282381       -0.274762        9.022619   \n",
       "std       ...             0.606901        0.530125        3.452782   \n",
       "min       ...            -5.600000       -4.100000        0.000000   \n",
       "25%       ...            -0.500000       -0.425000        6.600000   \n",
       "50%       ...            -0.200000        0.000000        8.700000   \n",
       "75%       ...             0.000000        0.000000       11.200000   \n",
       "max       ...             2.700000        0.000000       23.600000   \n",
       "\n",
       "       V6-S wave ampl  V6-R' wave ampl  V6-S' wave ampl  V6-P wave ampl  \\\n",
       "count      420.000000       420.000000            420.0      420.000000   \n",
       "mean        -1.487143         0.003095              0.0        0.544286   \n",
       "std          2.046704         0.045984              0.0        0.323009   \n",
       "min        -28.600000         0.000000              0.0       -0.800000   \n",
       "25%         -2.100000         0.000000              0.0        0.400000   \n",
       "50%         -1.200000         0.000000              0.0        0.500000   \n",
       "75%          0.000000         0.000000              0.0        0.700000   \n",
       "max          0.000000         0.800000              0.0        2.400000   \n",
       "\n",
       "       V6-T wave ampl  V6-QRSA sum    V6-QRSTA  \n",
       "count      420.000000   420.000000  420.000000  \n",
       "mean         1.270952    19.109524   29.618333  \n",
       "std          1.410061    13.651475   18.584817  \n",
       "min         -6.000000   -44.200000  -38.600000  \n",
       "25%          0.600000    11.100000   17.750000  \n",
       "50%          1.400000    18.000000   28.100000  \n",
       "75%          2.100000    25.800000   41.225000  \n",
       "max          6.000000    88.800000  115.900000  \n",
       "\n",
       "[8 rows x 278 columns]"
      ]
     },
     "execution_count": 9,
     "metadata": {},
     "output_type": "execute_result"
    }
   ],
   "source": [
    "dataset.describe()"
   ]
  },
  {
   "cell_type": "markdown",
   "metadata": {},
   "source": [
    "### 2.0 is a normal occurance, 1.0 is an anomaly"
   ]
  },
  {
   "cell_type": "code",
   "execution_count": 10,
   "metadata": {
    "collapsed": false
   },
   "outputs": [
    {
     "data": {
      "text/plain": [
       "ok         237\n",
       "anomaly    183\n",
       "Name: class, dtype: int64"
      ]
     },
     "execution_count": 10,
     "metadata": {},
     "output_type": "execute_result"
    }
   ],
   "source": [
    "dataset[\"class\"].value_counts()"
   ]
  },
  {
   "cell_type": "markdown",
   "metadata": {},
   "source": [
    "### The features we have:"
   ]
  },
  {
   "cell_type": "code",
   "execution_count": 11,
   "metadata": {
    "collapsed": false,
    "scrolled": true
   },
   "outputs": [
    {
     "data": {
      "text/plain": [
       "['age',\n",
       " 'sex',\n",
       " 'height',\n",
       " 'weight',\n",
       " 'QRS duration',\n",
       " 'P-R interval',\n",
       " 'Q-T interval',\n",
       " 'T interval',\n",
       " 'P interval',\n",
       " 'QRS',\n",
       " 'T',\n",
       " 'P',\n",
       " 'QRST',\n",
       " 'heartrate',\n",
       " 'DI-Q wave width',\n",
       " 'DI-R wave width',\n",
       " 'DI-S wave width',\n",
       " \"DI-R' wave width\",\n",
       " \"DI-S' wave width\",\n",
       " 'DI-number of intrinsic deflections',\n",
       " 'DI-ragged R wave',\n",
       " 'DI-diphasic derivation of R wave',\n",
       " 'DI-ragged P wave',\n",
       " 'DI-diphasic derivation of P wave',\n",
       " 'DI-ragged T wave',\n",
       " 'DI-diphasic derivation of T wave',\n",
       " 'DII-Q wave width',\n",
       " 'DII-R wave width',\n",
       " 'DII-S wave width',\n",
       " \"DII-R' wave width\",\n",
       " \"DII-S' wave width\",\n",
       " 'DII-number of intrinsic deflections',\n",
       " 'DII-ragged R wave',\n",
       " 'DII-diphasic derivation of R wave',\n",
       " 'DII-ragged P wave',\n",
       " 'DII-diphasic derivation of P wave',\n",
       " 'DII-ragged T wave',\n",
       " 'DII-diphasic derivation of T wave',\n",
       " 'DIII-Q wave width',\n",
       " 'DIII-R wave width',\n",
       " 'DIII-S wave width',\n",
       " \"DIII-R' wave width\",\n",
       " \"DIII-S' wave width\",\n",
       " 'DIII-number of intrinsic deflections',\n",
       " 'DIII-ragged R wave',\n",
       " 'DIII-diphasic derivation of R wave',\n",
       " 'DIII-ragged P wave',\n",
       " 'DIII-diphasic derivation of P wave',\n",
       " 'DIII-ragged T wave',\n",
       " 'DIII-diphasic derivation of T wave',\n",
       " 'AVR-Q wave width',\n",
       " 'AVR-R wave width',\n",
       " 'AVR-S wave width',\n",
       " \"AVR-R' wave width\",\n",
       " \"AVR-S' wave width\",\n",
       " 'AVR-number of intrinsic deflections',\n",
       " 'AVR-ragged R wave',\n",
       " 'AVR-diphasic derivation of R wave',\n",
       " 'AVR-ragged P wave',\n",
       " 'AVR-diphasic derivation of P wave',\n",
       " 'AVR-ragged T wave',\n",
       " 'AVR-diphasic derivation of T wave',\n",
       " 'AVL-Q wave width',\n",
       " 'AVL-R wave width',\n",
       " 'AVL-S wave width',\n",
       " \"AVL-R' wave width\",\n",
       " \"AVL-S' wave width\",\n",
       " 'AVL-number of intrinsic deflections',\n",
       " 'AVL-ragged R wave',\n",
       " 'AVL-diphasic derivation of R wave',\n",
       " 'AVL-ragged P wave',\n",
       " 'AVL-diphasic derivation of P wave',\n",
       " 'AVL-ragged T wave',\n",
       " 'AVL-diphasic derivation of T wave',\n",
       " 'AVF-Q wave width',\n",
       " 'AVF-R wave width',\n",
       " 'AVF-S wave width',\n",
       " \"AVF-R' wave width\",\n",
       " \"AVF-S' wave width\",\n",
       " 'AVF-number of intrinsic deflections',\n",
       " 'AVF-ragged R wave',\n",
       " 'AVF-diphasic derivation of R wave',\n",
       " 'AVF-ragged P wave',\n",
       " 'AVF-diphasic derivation of P wave',\n",
       " 'AVF-ragged T wave',\n",
       " 'AVF-diphasic derivation of T wave',\n",
       " 'V1-Q wave width',\n",
       " 'V1-R wave width',\n",
       " 'V1-S wave width',\n",
       " \"V1-R' wave width\",\n",
       " \"V1-S' wave width\",\n",
       " 'V1-number of intrinsic deflections',\n",
       " 'V1-ragged R wave',\n",
       " 'V1-diphasic derivation of R wave',\n",
       " 'V1-ragged P wave',\n",
       " 'V1-diphasic derivation of P wave',\n",
       " 'V1-ragged T wave',\n",
       " 'V1-diphasic derivation of T wave',\n",
       " 'V2-Q wave width',\n",
       " 'V2-R wave width',\n",
       " 'V2-S wave width',\n",
       " \"V2-R' wave width\",\n",
       " \"V2-S' wave width\",\n",
       " 'V2-number of intrinsic deflections',\n",
       " 'V2-ragged R wave',\n",
       " 'V2-diphasic derivation of R wave',\n",
       " 'V2-ragged P wave',\n",
       " 'V2-diphasic derivation of P wave',\n",
       " 'V2-ragged T wave',\n",
       " 'V2-diphasic derivation of T wave',\n",
       " 'V3-Q wave width',\n",
       " 'V3-R wave width',\n",
       " 'V3-S wave width',\n",
       " \"V3-R' wave width\",\n",
       " \"V3-S' wave width\",\n",
       " 'V3-number of intrinsic deflections',\n",
       " 'V3-ragged R wave',\n",
       " 'V3-diphasic derivation of R wave',\n",
       " 'V3-ragged P wave',\n",
       " 'V3-diphasic derivation of P wave',\n",
       " 'V3-ragged T wave',\n",
       " 'V3-diphasic derivation of T wave',\n",
       " 'V4-Q wave width',\n",
       " 'V4-R wave width',\n",
       " 'V4-S wave width',\n",
       " \"V4-R' wave width\",\n",
       " \"V4-S' wave width\",\n",
       " 'V4-number of intrinsic deflections',\n",
       " 'V4-ragged R wave',\n",
       " 'V4-diphasic derivation of R wave',\n",
       " 'V4-ragged P wave',\n",
       " 'V4-diphasic derivation of P wave',\n",
       " 'V4-ragged T wave',\n",
       " 'V4-diphasic derivation of T wave',\n",
       " 'V5-Q wave width',\n",
       " 'V5-R wave width',\n",
       " 'V5-S wave width',\n",
       " \"V5-R' wave width\",\n",
       " \"V5-S' wave width\",\n",
       " 'V5-number of intrinsic deflections',\n",
       " 'V5-ragged R wave',\n",
       " 'V5-diphasic derivation of R wave',\n",
       " 'V5-ragged P wave',\n",
       " 'V5-diphasic derivation of P wave',\n",
       " 'V5-ragged T wave',\n",
       " 'V5-diphasic derivation of T wave',\n",
       " 'V6-Q wave width',\n",
       " 'V6-R wave width',\n",
       " 'V6-S wave width',\n",
       " \"V6-R' wave width\",\n",
       " \"V6-S' wave width\",\n",
       " 'V6-number of intrinsic deflections',\n",
       " 'V6-ragged R wave',\n",
       " 'V6-diphasic derivation of R wave',\n",
       " 'V6-ragged P wave',\n",
       " 'V6-diphasic derivation of P wave',\n",
       " 'V6-ragged T wave',\n",
       " 'V6-diphasic derivation of T wave',\n",
       " 'DI-JJ wave ampl',\n",
       " 'DI-Q wave ampl',\n",
       " 'DI-R wave ampl',\n",
       " 'DI-S wave ampl',\n",
       " \"DI-R' wave ampl\",\n",
       " \"DI-S' wave ampl\",\n",
       " 'DI-P wave ampl',\n",
       " 'DI-T wave ampl',\n",
       " 'DI-QRSA sum',\n",
       " 'DI-QRSTA',\n",
       " 'DII-JJ wave ampl',\n",
       " 'DII-Q wave ampl',\n",
       " 'DII-R wave ampl',\n",
       " 'DII-S wave ampl',\n",
       " \"DII-R' wave ampl\",\n",
       " \"DII-S' wave ampl\",\n",
       " 'DII-P wave ampl',\n",
       " 'DII-T wave ampl',\n",
       " 'DII-QRSA sum',\n",
       " 'DII-QRSTA',\n",
       " 'DIII-JJ wave ampl',\n",
       " 'DIII-Q wave ampl',\n",
       " 'DIII-R wave ampl',\n",
       " 'DIII-S wave ampl',\n",
       " \"DIII-R' wave ampl\",\n",
       " \"DIII-S' wave ampl\",\n",
       " 'DIII-P wave ampl',\n",
       " 'DIII-T wave ampl',\n",
       " 'DIII-QRSA sum',\n",
       " 'DIII-QRSTA',\n",
       " 'AVR-JJ wave ampl',\n",
       " 'AVR-Q wave ampl',\n",
       " 'AVR-R wave ampl',\n",
       " 'AVR-S wave ampl',\n",
       " \"AVR-R' wave ampl\",\n",
       " \"AVR-S' wave ampl\",\n",
       " 'AVR-P wave ampl',\n",
       " 'AVR-T wave ampl',\n",
       " 'AVR-QRSA sum',\n",
       " 'AVR-QRSTA',\n",
       " 'AVL-JJ wave ampl',\n",
       " 'AVL-Q wave ampl',\n",
       " 'AVL-R wave ampl',\n",
       " 'AVL-S wave ampl',\n",
       " \"AVL-R' wave ampl\",\n",
       " \"AVL-S' wave ampl\",\n",
       " 'AVL-P wave ampl',\n",
       " 'AVL-T wave ampl',\n",
       " 'AVL-QRSA sum',\n",
       " 'AVL-QRSTA',\n",
       " 'AVF-JJ wave ampl',\n",
       " 'AVF-Q wave ampl',\n",
       " 'AVF-R wave ampl',\n",
       " 'AVF-S wave ampl',\n",
       " \"AVF-R' wave ampl\",\n",
       " \"AVF-S' wave ampl\",\n",
       " 'AVF-P wave ampl',\n",
       " 'AVF-T wave ampl',\n",
       " 'AVF-QRSA sum',\n",
       " 'AVF-QRSTA',\n",
       " 'V1-JJ wave ampl',\n",
       " 'V1-Q wave ampl',\n",
       " 'V1-R wave ampl',\n",
       " 'V1-S wave ampl',\n",
       " \"V1-R' wave ampl\",\n",
       " \"V1-S' wave ampl\",\n",
       " 'V1-P wave ampl',\n",
       " 'V1-T wave ampl',\n",
       " 'V1-QRSA sum',\n",
       " 'V1-QRSTA',\n",
       " 'V2-JJ wave ampl',\n",
       " 'V2-Q wave ampl',\n",
       " 'V2-R wave ampl',\n",
       " 'V2-S wave ampl',\n",
       " \"V2-R' wave ampl\",\n",
       " \"V2-S' wave ampl\",\n",
       " 'V2-P wave ampl',\n",
       " 'V2-T wave ampl',\n",
       " 'V2-QRSA sum',\n",
       " 'V2-QRSTA',\n",
       " 'V3-JJ wave ampl',\n",
       " 'V3-Q wave ampl',\n",
       " 'V3-R wave ampl',\n",
       " 'V3-S wave ampl',\n",
       " \"V3-R' wave ampl\",\n",
       " \"V3-S' wave ampl\",\n",
       " 'V3-P wave ampl',\n",
       " 'V3-T wave ampl',\n",
       " 'V3-QRSA sum',\n",
       " 'V3-QRSTA',\n",
       " 'V4-JJ wave ampl',\n",
       " 'V4-Q wave ampl',\n",
       " 'V4-R wave ampl',\n",
       " 'V4-S wave ampl',\n",
       " \"V4-R' wave ampl\",\n",
       " \"V4-S' wave ampl\",\n",
       " 'V4-P wave ampl',\n",
       " 'V4-T wave ampl',\n",
       " 'V4-QRSA sum',\n",
       " 'V4-QRSTA',\n",
       " 'V5-JJ wave ampl',\n",
       " 'V5-Q wave ampl',\n",
       " 'V5-R wave ampl',\n",
       " 'V5-S wave ampl',\n",
       " \"V5-R' wave ampl\",\n",
       " \"V5-S' wave ampl\",\n",
       " 'V5-P wave ampl',\n",
       " 'V5-T wave ampl',\n",
       " 'V5-QRSA sum',\n",
       " 'V5-QRSTA',\n",
       " 'V6-JJ wave ampl',\n",
       " 'V6-Q wave ampl',\n",
       " 'V6-R wave ampl',\n",
       " 'V6-S wave ampl',\n",
       " \"V6-R' wave ampl\",\n",
       " \"V6-S' wave ampl\",\n",
       " 'V6-P wave ampl',\n",
       " 'V6-T wave ampl',\n",
       " 'V6-QRSA sum',\n",
       " 'V6-QRSTA',\n",
       " 'class']"
      ]
     },
     "execution_count": 11,
     "metadata": {},
     "output_type": "execute_result"
    }
   ],
   "source": [
    "dataset.columns.tolist()"
   ]
  },
  {
   "cell_type": "markdown",
   "metadata": {},
   "source": [
    "### Spliting the data for training and test:"
   ]
  },
  {
   "cell_type": "code",
   "execution_count": 12,
   "metadata": {
    "collapsed": false
   },
   "outputs": [
    {
     "name": "stdout",
     "output_type": "stream",
     "text": [
      "X: (420, 278) Y: (420,)\n",
      "Train X: (294, 278) Y: (294,)\n",
      "Test X: (126, 278) Y: (126,)\n",
      "\n",
      "Training set anomalies:\n",
      "anomaly    133\n",
      "ok         161\n",
      "dtype: int64\n",
      "\n",
      "Test set anomalies:\n",
      "anomaly    50\n",
      "ok         76\n",
      "dtype: int64\n"
     ]
    }
   ],
   "source": [
    "from sklearn.model_selection import train_test_split\n",
    "\n",
    "X = dataset.ix[:,:278]\n",
    "y = dataset.ix[:,278]\n",
    "\n",
    "X_train, X_test, y_train, y_test = train_test_split(dataset.ix[:,:278], dataset.ix[:,278], test_size=0.3, random_state=0)\n",
    "X_train_ok = X_train[y_train != \"anomaly\"]\n",
    "\n",
    "print(\"X: %s Y: %s\" % (X.shape, y.shape))\n",
    "\n",
    "print(\"Train X: %s Y: %s\" % (X_train.shape, y_train.shape))\n",
    "print(\"Test X: %s Y: %s\" % (X_test.shape, y_test.shape))\n",
    "\n",
    "print(\"\\nTraining set anomalies:\\n%s\" % y_train.value_counts())\n",
    "print(\"\\nTest set anomalies:\\n%s\" % y_test.value_counts())"
   ]
  },
  {
   "cell_type": "markdown",
   "metadata": {
    "collapsed": true
   },
   "source": [
    "### 1) KDE\n",
    "#### Methodology:\n",
    "- Train with the non-anomalous instances\n",
    "- Test with anomalous/non-anomalous instances"
   ]
  },
  {
   "cell_type": "code",
   "execution_count": 13,
   "metadata": {
    "collapsed": true
   },
   "outputs": [],
   "source": [
    "from sklearn.neighbors.kde import KernelDensity\n",
    "from sklearn.model_selection import GridSearchCV"
   ]
  },
  {
   "cell_type": "code",
   "execution_count": 14,
   "metadata": {
    "collapsed": false,
    "scrolled": false
   },
   "outputs": [
    {
     "name": "stdout",
     "output_type": "stream",
     "text": [
      "Time to train and predict the results: 0.046875\n"
     ]
    }
   ],
   "source": [
    "\n",
    "#hist = KernelDensity(kernel = \"guassian\", brandwith = 0.1)\n",
    "model = KernelDensity(kernel = \"gaussian\", bandwidth = 1.8)\n",
    "\n",
    "#model_parameters =  [{\"bandwidth\": np.arange(0.3, 10, 0.3)}]\n",
    "#model2 = GridSearchCV(model, model_parameters, cv=10)\n",
    "#model2.fit(X_train)\n",
    "#probs = np.exp(model2.best_estimator_.score_samples(X_test))\n",
    "#probs = model2.best_estimator_.score_samples(X_train)\n",
    "t1 = time.process_time()    \n",
    "\n",
    "model.fit(X_train_ok)\n",
    "probs = np.exp(model.score_samples(X_test))\n",
    "\n",
    "print(\"Time to train and predict the results: %f\" % (time.process_time() - t1))"
   ]
  },
  {
   "cell_type": "code",
   "execution_count": 15,
   "metadata": {
    "collapsed": false,
    "scrolled": true
   },
   "outputs": [
    {
     "name": "stdout",
     "output_type": "stream",
     "text": [
      "Probs: [  2.346937608928838727442540e-199   0.000000000000000000000000e+000\n",
      "   0.000000000000000000000000e+000   0.000000000000000000000000e+000\n",
      "   0.000000000000000000000000e+000   0.000000000000000000000000e+000\n",
      "   1.205205323958764331658514e-198   0.000000000000000000000000e+000\n",
      "   0.000000000000000000000000e+000   1.932541125792737354131775e-227\n",
      "   0.000000000000000000000000e+000   5.312139014128970589600247e-232\n",
      "   0.000000000000000000000000e+000   0.000000000000000000000000e+000\n",
      "   0.000000000000000000000000e+000   1.736033728288158322853633e-199\n",
      "   0.000000000000000000000000e+000   0.000000000000000000000000e+000\n",
      "   0.000000000000000000000000e+000   0.000000000000000000000000e+000\n",
      "   0.000000000000000000000000e+000   0.000000000000000000000000e+000\n",
      "   0.000000000000000000000000e+000   0.000000000000000000000000e+000\n",
      "   0.000000000000000000000000e+000   3.326944820891070881549886e-232\n",
      "   0.000000000000000000000000e+000   4.463285848082592847985692e-199\n",
      "   1.512238449067804955916934e-199   0.000000000000000000000000e+000\n",
      "   0.000000000000000000000000e+000   0.000000000000000000000000e+000\n",
      "   0.000000000000000000000000e+000   0.000000000000000000000000e+000\n",
      "   5.693252115369003123062165e-199   0.000000000000000000000000e+000\n",
      "   0.000000000000000000000000e+000   0.000000000000000000000000e+000\n",
      "   0.000000000000000000000000e+000   0.000000000000000000000000e+000\n",
      "   0.000000000000000000000000e+000   0.000000000000000000000000e+000\n",
      "   0.000000000000000000000000e+000   0.000000000000000000000000e+000\n",
      "   5.703533846229891347632830e-199   0.000000000000000000000000e+000\n",
      "   0.000000000000000000000000e+000   5.563366744084877283702963e-201\n",
      "   0.000000000000000000000000e+000   0.000000000000000000000000e+000\n",
      "   6.697226834044809198882997e-204   0.000000000000000000000000e+000\n",
      "   0.000000000000000000000000e+000   0.000000000000000000000000e+000\n",
      "   0.000000000000000000000000e+000   0.000000000000000000000000e+000\n",
      "   0.000000000000000000000000e+000   0.000000000000000000000000e+000\n",
      "   0.000000000000000000000000e+000   0.000000000000000000000000e+000\n",
      "   0.000000000000000000000000e+000   0.000000000000000000000000e+000\n",
      "   1.415081667380173774973049e-199   0.000000000000000000000000e+000\n",
      "   0.000000000000000000000000e+000   0.000000000000000000000000e+000\n",
      "   8.324767232203460119317553e-219   0.000000000000000000000000e+000\n",
      "   0.000000000000000000000000e+000   0.000000000000000000000000e+000\n",
      "   0.000000000000000000000000e+000   0.000000000000000000000000e+000\n",
      "   0.000000000000000000000000e+000   0.000000000000000000000000e+000\n",
      "   2.215060346963164575943086e-221   1.444106363256167350036319e-202\n",
      "   0.000000000000000000000000e+000   0.000000000000000000000000e+000\n",
      "   0.000000000000000000000000e+000   0.000000000000000000000000e+000\n",
      "   0.000000000000000000000000e+000   0.000000000000000000000000e+000\n",
      "   0.000000000000000000000000e+000   0.000000000000000000000000e+000\n",
      "   0.000000000000000000000000e+000   5.235226056291305657367653e-200\n",
      "   4.586057202179099232698369e-200   0.000000000000000000000000e+000\n",
      "   0.000000000000000000000000e+000   0.000000000000000000000000e+000\n",
      "   2.628705643689088637574828e-199   0.000000000000000000000000e+000\n",
      "   1.080139374583878525239202e-254   0.000000000000000000000000e+000\n",
      "   0.000000000000000000000000e+000   0.000000000000000000000000e+000\n",
      "   0.000000000000000000000000e+000   0.000000000000000000000000e+000\n",
      "   0.000000000000000000000000e+000   0.000000000000000000000000e+000\n",
      "   0.000000000000000000000000e+000   0.000000000000000000000000e+000\n",
      "   0.000000000000000000000000e+000   2.542405910241245128498874e-199\n",
      "   0.000000000000000000000000e+000   0.000000000000000000000000e+000\n",
      "   0.000000000000000000000000e+000   0.000000000000000000000000e+000\n",
      "   2.689877328408757070580383e-198   0.000000000000000000000000e+000\n",
      "   0.000000000000000000000000e+000   0.000000000000000000000000e+000\n",
      "   0.000000000000000000000000e+000   0.000000000000000000000000e+000\n",
      "   8.116878018184415237638918e-199   0.000000000000000000000000e+000\n",
      "   0.000000000000000000000000e+000   0.000000000000000000000000e+000\n",
      "   2.914704003807728299505715e-202   3.506456577268699126784028e-233\n",
      "   0.000000000000000000000000e+000   0.000000000000000000000000e+000\n",
      "   0.000000000000000000000000e+000   0.000000000000000000000000e+000\n",
      "   6.002342878767884556131751e-199   0.000000000000000000000000e+000]\n"
     ]
    }
   ],
   "source": [
    "np.set_printoptions(precision=24)\n",
    "print(\"Probs: %s\" % probs)\n",
    "y_pred = np.array([\"anomaly\" if y == 0.0 else \"ok\" for y in probs])"
   ]
  },
  {
   "cell_type": "code",
   "execution_count": 16,
   "metadata": {
    "collapsed": false
   },
   "outputs": [
    {
     "data": {
      "text/plain": [
       "<matplotlib.text.Text at 0x159e5beb748>"
      ]
     },
     "execution_count": 16,
     "metadata": {},
     "output_type": "execute_result"
    },
    {
     "data": {
      "image/png": "[encoded data removed]",
      "text/plain": [
       "<matplotlib.figure.Figure at 0x159e5bb3f60>"
      ]
     },
     "metadata": {},
     "output_type": "display_data"
    }
   ],
   "source": [
    "# Plot\n",
    "plt.figure(figsize=(13, 3), dpi=500)\n",
    "plt.plot(np.arange(len(probs)), probs)\n",
    "plt.xlabel('Instances')\n",
    "plt.ylabel('f(x)')\n",
    "plt.title('PDF - data')"
   ]
  },
  {
   "cell_type": "code",
   "execution_count": 17,
   "metadata": {
    "collapsed": false
   },
   "outputs": [
    {
     "name": "stdout",
     "output_type": "stream",
     "text": [
      "Confusion matrix, without normalization\n",
      "[[15 61]\n",
      " [11 39]]\n"
     ]
    },
    {
     "data": {
      "image/png": "[encoded data removed]",
      "text/plain": [
       "<matplotlib.figure.Figure at 0x159e00555f8>"
      ]
     },
     "metadata": {},
     "output_type": "display_data"
    }
   ],
   "source": [
    "from sklearn.metrics import confusion_matrix\n",
    "plot_confusion_matrix(confusion_matrix(y_test, y_pred, labels = [\"ok\", \"anomaly\"]), classes = [\"ok\", \"anomaly\"])"
   ]
  },
  {
   "cell_type": "markdown",
   "metadata": {},
   "source": [
    "#### Conclusions:\n",
    "- The algorithm identifies most of the instances in test set as anomalous, since almost all the values give my \"score_samples\" are zeros. This pattern was observed with every value atributed to \"bandwith\" parameter.\n",
    "- Fast execution (only 0.046875 seconds to train and predict the results)"
   ]
  },
  {
   "cell_type": "markdown",
   "metadata": {},
   "source": [
    "### 2) One-class SVM\n",
    "#### Methodology:\n",
    "- Train with the non-anomalous instances\n",
    "- Test with anomalous/non-anomalous instances"
   ]
  },
  {
   "cell_type": "code",
   "execution_count": 18,
   "metadata": {
    "collapsed": true
   },
   "outputs": [],
   "source": [
    "from sklearn import svm"
   ]
  },
  {
   "cell_type": "code",
   "execution_count": 19,
   "metadata": {
    "collapsed": false
   },
   "outputs": [
    {
     "name": "stdout",
     "output_type": "stream",
     "text": [
      "Time to train and predict the results: 0.015625\n"
     ]
    }
   ],
   "source": [
    "model = svm.OneClassSVM(kernel=\"linear\")\n",
    "\n",
    "t1 = time.process_time()\n",
    "\n",
    "model.fit(X_train_ok)\n",
    "y_pred = np.array([\"anomaly\" if y == 1 else \"ok\" for y in model.predict(X_test)])\n",
    "\n",
    "print(\"Time to train and predict the results: %f\" % (time.process_time() - t1))"
   ]
  },
  {
   "cell_type": "code",
   "execution_count": 20,
   "metadata": {
    "collapsed": false
   },
   "outputs": [
    {
     "name": "stdout",
     "output_type": "stream",
     "text": [
      "Confusion matrix, without normalization\n",
      "[[36 40]\n",
      " [20 30]]\n"
     ]
    },
    {
     "data": {
      "image/png": "[encoded data removed]",
      "text/plain": [
       "<matplotlib.figure.Figure at 0x159e67fc7f0>"
      ]
     },
     "metadata": {},
     "output_type": "display_data"
    }
   ],
   "source": [
    "plot_confusion_matrix(confusion_matrix(y_test, y_pred, labels = [\"ok\", \"anomaly\"]), classes = [\"ok\", \"anomaly\"])"
   ]
  },
  {
   "cell_type": "markdown",
   "metadata": {},
   "source": [
    "#### Conclusions:\n",
    "- This alorithm does slightly better, although identifying most non-anomalous instances as anomalous.\n",
    "- Fast execution (only 0.015625 seconds -- approx. 1/4 of the time for the KDE)"
   ]
  },
  {
   "cell_type": "markdown",
   "metadata": {},
   "source": [
    "### 3) LOF\n",
    "#### Methodology:\n",
    "- Train with the non-anomalous instances\n",
    "- Test with anomalous/non-anomalous instances"
   ]
  },
  {
   "cell_type": "code",
   "execution_count": 21,
   "metadata": {
    "collapsed": false
   },
   "outputs": [],
   "source": [
    "from sklearn.neighbors import NearestNeighbors\n",
    "import scipy.spatial.distance as scidi \n",
    "\n",
    "class LOF:\n",
    "    def __init__(self, train_data, k):\n",
    "        self.train_data = train_data\n",
    "        self.nearest_neighbors = NearestNeighbors(n_neighbors = k, metric = \"euclidean\")\n",
    "        \n",
    "        # Fit the training data to find neighbors:\n",
    "        self.nearest_neighbors.fit(train_data)\n",
    "    \n",
    "    # Calculates the KNN of a row \"a\"\n",
    "    def __neighbors(self, a):\n",
    "        return_value = self.nearest_neighbors.kneighbors([a])\n",
    "        return(return_value)\n",
    "    \n",
    "    # Calculates the number of neighbors of a row \"a\"\n",
    "    def __number_of_neighbors(self, a):\n",
    "        return(len(self.__neighbors(a)[0][0]))\n",
    "    \n",
    "    # Calculates the k-distance of a row \"a\"\n",
    "    def __k_distance(self, a):\n",
    "        distances, indexes = self.__neighbors(a)\n",
    "        return(max(distances[0]))\n",
    "    \n",
    "    # Calculates the reachability distance between rows \"a\" and \"b\"\n",
    "    def __reachability_distance(self, a, b):\n",
    "        return(max([self.__k_distance(b), scidi.euclidean(a, b)]))\n",
    "    \n",
    "    # Calculates the local reachability function for row \"a\"\n",
    "    def __lrd(self, a):\n",
    "        neighbors_distances, neighbors_indexes = self.__neighbors(a)\n",
    "        \n",
    "        numerator = sum([self.__reachability_distance(a, b) for b in self.train_data.iloc[neighbors_indexes[0],:].values])\n",
    "        denominator =  self.__number_of_neighbors(a)\n",
    "        \n",
    "        return(1/(numerator/denominator))\n",
    "    \n",
    "    # Calculates the LOF for a row \"a\"\n",
    "    def __lof(self, a):\n",
    "        neighbors_distances, neighbors_indexes = self.__neighbors(a)\n",
    "        \n",
    "        numerator = sum([(self.__lrd(b) / self.__lrd(a)) for b in self.train_data.iloc[neighbors_indexes[0], :].values])\n",
    "        denominator = self.__number_of_neighbors(a)\n",
    "        \n",
    "        return(numerator/denominator)\n",
    "    \n",
    "    # Predicts the LOFs for the rows in \"test_data\"\n",
    "    def predict(self, test_data):\n",
    "        lofs = [self.__lof(x) for _, x in test_data.iterrows()]\n",
    "        return(lofs)"
   ]
  },
  {
   "cell_type": "code",
   "execution_count": 22,
   "metadata": {
    "collapsed": false
   },
   "outputs": [],
   "source": [
    "t1 = time.process_time()\n",
    "model = LOF(X_train_ok, 5)"
   ]
  },
  {
   "cell_type": "code",
   "execution_count": 23,
   "metadata": {
    "collapsed": false
   },
   "outputs": [
    {
     "name": "stdout",
     "output_type": "stream",
     "text": [
      "Time to train and predict the results: 5.968750\n"
     ]
    }
   ],
   "source": [
    "lofs = model.predict(X_test)\n",
    "print(\"Time to train and predict the results: %f\" % (time.process_time() - t1))"
   ]
  },
  {
   "cell_type": "code",
   "execution_count": 24,
   "metadata": {
    "collapsed": false
   },
   "outputs": [],
   "source": [
    "y_pred = np.array([\"anomaly\" if y > 1.2 else \"ok\" for y in lofs])"
   ]
  },
  {
   "cell_type": "code",
   "execution_count": 25,
   "metadata": {
    "collapsed": false
   },
   "outputs": [
    {
     "data": {
      "text/plain": [
       "<matplotlib.text.Text at 0x159e683aac8>"
      ]
     },
     "execution_count": 25,
     "metadata": {},
     "output_type": "execute_result"
    },
    {
     "data": {
      "image/png": "[encoded data removed]",
      "text/plain": [
       "<matplotlib.figure.Figure at 0x159e6895080>"
      ]
     },
     "metadata": {},
     "output_type": "display_data"
    }
   ],
   "source": [
    "plt.figure(figsize=(13, 3), dpi=500)\n",
    "plt.hist(lofs, 200)\n",
    "plt.axvline(1.2, color=\"r\")\n",
    "plt.xlabel('LOF')\n",
    "plt.ylabel('Frquency')\n",
    "plt.title('LOF for the test dataset')"
   ]
  },
  {
   "cell_type": "code",
   "execution_count": 26,
   "metadata": {
    "collapsed": false
   },
   "outputs": [
    {
     "name": "stdout",
     "output_type": "stream",
     "text": [
      "Confusion matrix, without normalization\n",
      "[[56 20]\n",
      " [22 28]]\n"
     ]
    },
    {
     "data": {
      "image/png": "[encoded data removed]",
      "text/plain": [
       "<matplotlib.figure.Figure at 0x159e689c828>"
      ]
     },
     "metadata": {},
     "output_type": "display_data"
    }
   ],
   "source": [
    "plot_confusion_matrix(confusion_matrix(y_test, y_pred, labels = [\"ok\", \"anomaly\"]), classes = [\"ok\", \"anomaly\"])"
   ]
  },
  {
   "cell_type": "markdown",
   "metadata": {},
   "source": [
    "#### Conclusions:\n",
    "- This alorithm worked the best with this dataset, identifying more than half of the anomalies in the test set, while classifying almost all non-anomalous instances correctly.\n",
    "- The slowest algorithm (with k=5 it took almost 6 seconds!)"
   ]
  }
 ],
 "metadata": {
  "anaconda-cloud": {},
  "kernelspec": {
   "display_name": "Python [conda root]",
   "language": "python",
   "name": "conda-root-py"
  },
  "language_info": {
   "codemirror_mode": {
    "name": "ipython",
    "version": 3
   },
   "file_extension": ".py",
   "mimetype": "text/x-python",
   "name": "python",
   "nbconvert_exporter": "python",
   "pygments_lexer": "ipython3",
   "version": "3.5.2"
  }
 },
 "nbformat": 4,
 "nbformat_minor": 1
}
