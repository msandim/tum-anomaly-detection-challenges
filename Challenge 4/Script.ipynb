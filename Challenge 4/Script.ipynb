{
 "cells": [
  {
   "cell_type": "markdown",
   "metadata": {},
   "source": [
    "# Anomaly Detection Challenge 4\n",
    "## Miguel Sandim and Paula Fortuna"
   ]
  },
  {
   "cell_type": "markdown",
   "metadata": {},
   "source": [
    "## 0 - Library Imports & Utils"
   ]
  },
  {
   "cell_type": "code",
   "execution_count": 1,
   "metadata": {
    "collapsed": false
   },
   "outputs": [],
   "source": [
    "# json\n",
    "import json\n",
    "\n",
    "# math\n",
    "import math\n",
    "\n",
    "# pandas\n",
    "import pandas as pd\n",
    "from pandas import Series,DataFrame\n",
    "\n",
    "# numpy, matplotlib, seaborn\n",
    "import numpy as np\n",
    "import matplotlib.pyplot as plt\n",
    "import seaborn as sns\n",
    "%matplotlib inline\n",
    "\n",
    "# Random libraries and seeds:\n",
    "import random\n",
    "random.seed(2)\n",
    "np.random.seed(2)\n",
    "\n",
    "pd.set_option('display.max_columns', None)"
   ]
  },
  {
   "cell_type": "code",
   "execution_count": 2,
   "metadata": {
    "collapsed": false
   },
   "outputs": [],
   "source": [
    "# From: http://scikit-learn.org/stable/auto_examples/model_selection/plot_confusion_matrix.html\n",
    "import itertools\n",
    "from sklearn.metrics import confusion_matrix\n",
    "\n",
    "def plot_confusion_matrix(cm, classes,\n",
    "                          normalize=False,\n",
    "                          title='Confusion matrix',\n",
    "                          cmap=plt.cm.Blues):\n",
    "    \"\"\"\n",
    "    This function prints and plots the confusion matrix.\n",
    "    Normalization can be applied by setting `normalize=True`.\n",
    "    \"\"\"\n",
    "    plt.imshow(cm, interpolation='nearest', cmap=cmap)\n",
    "    plt.title(title)\n",
    "    plt.colorbar()\n",
    "    tick_marks = np.arange(len(classes))\n",
    "    plt.xticks(tick_marks, classes, rotation=45)\n",
    "    plt.yticks(tick_marks, classes)\n",
    "\n",
    "    if normalize:\n",
    "        cm = cm.astype('float') / cm.sum(axis=1)[:, np.newaxis]\n",
    "        print(\"Normalized confusion matrix\")\n",
    "    else:\n",
    "        print('Confusion matrix, without normalization')\n",
    "\n",
    "    print(cm)\n",
    "\n",
    "    thresh = cm.max() / 2.\n",
    "    for i, j in itertools.product(range(cm.shape[0]), range(cm.shape[1])):\n",
    "        plt.text(j, i, cm[i, j],\n",
    "                 horizontalalignment=\"center\",\n",
    "                 color=\"white\" if cm[i, j] > thresh else \"black\")\n",
    "\n",
    "    plt.tight_layout()\n",
    "    plt.ylabel('True label')\n",
    "    plt.xlabel('Predicted label')\n"
   ]
  },
  {
   "cell_type": "markdown",
   "metadata": {},
   "source": [
    "# 1 - Data Reading"
   ]
  },
  {
   "cell_type": "markdown",
   "metadata": {},
   "source": [
    "### 1.1 Load data"
   ]
  },
  {
   "cell_type": "code",
   "execution_count": 3,
   "metadata": {
    "collapsed": false
   },
   "outputs": [],
   "source": [
    "def readData(filename):\n",
    "    data = []\n",
    "    with open(filename) as f:\n",
    "        for line in f:\n",
    "            data.append(json.loads(line))\n",
    "            \n",
    "    return pd.io.json.json_normalize(data)"
   ]
  },
  {
   "cell_type": "code",
   "execution_count": 4,
   "metadata": {
    "collapsed": true
   },
   "outputs": [],
   "source": [
    "train_df = readData(\"data/training_set_dedup.csv\")"
   ]
  },
  {
   "cell_type": "code",
   "execution_count": 5,
   "metadata": {
    "collapsed": true
   },
   "outputs": [],
   "source": [
    "test_df = readData(\"data/test_set_dedup.csv\")"
   ]
  },
  {
   "cell_type": "markdown",
   "metadata": {},
   "source": [
    "### Save data for Paula:"
   ]
  },
  {
   "cell_type": "code",
   "execution_count": null,
   "metadata": {
    "collapsed": true
   },
   "outputs": [],
   "source": [
    "train_df.to_csv(\"train_df.csv\", index = False, encoding='utf-8')"
   ]
  },
  {
   "cell_type": "code",
   "execution_count": null,
   "metadata": {
    "collapsed": true
   },
   "outputs": [],
   "source": [
    "test_df.to_csv(\"test_df.csv\", index = False, encoding='utf-8')"
   ]
  },
  {
   "cell_type": "markdown",
   "metadata": {},
   "source": [
    "### Some statistics:"
   ]
  },
  {
   "cell_type": "code",
   "execution_count": 6,
   "metadata": {
    "collapsed": false,
    "scrolled": true
   },
   "outputs": [
    {
     "data": {
      "text/plain": [
       "malicious    5000\n",
       "benign       4754\n",
       "Name: label, dtype: int64"
      ]
     },
     "execution_count": 6,
     "metadata": {},
     "output_type": "execute_result"
    }
   ],
   "source": [
    "train_df[\"label\"].value_counts()"
   ]
  },
  {
   "cell_type": "code",
   "execution_count": 7,
   "metadata": {
    "collapsed": false
   },
   "outputs": [
    {
     "data": {
      "text/plain": [
       "0.5126102111954071"
      ]
     },
     "execution_count": 7,
     "metadata": {},
     "output_type": "execute_result"
    }
   ],
   "source": [
    "5000/(5000 + 4754)"
   ]
  },
  {
   "cell_type": "markdown",
   "metadata": {},
   "source": [
    "## About 51% of our dataset are anomalous cases."
   ]
  },
  {
   "cell_type": "markdown",
   "metadata": {},
   "source": [
    "# 2 - Data Pre-Processing"
   ]
  },
  {
   "cell_type": "code",
   "execution_count": 8,
   "metadata": {
    "collapsed": false
   },
   "outputs": [],
   "source": [
    "import sklearn.preprocessing as skpre"
   ]
  },
  {
   "cell_type": "markdown",
   "metadata": {},
   "source": [
    "## 2.1 - Solve Missing Values"
   ]
  },
  {
   "cell_type": "markdown",
   "metadata": {},
   "source": [
    "No missing values exist!"
   ]
  },
  {
   "cell_type": "markdown",
   "metadata": {},
   "source": [
    "## 2.2 - Feature Extraction"
   ]
  },
  {
   "cell_type": "markdown",
   "metadata": {},
   "source": [
    "Change label to numeric"
   ]
  },
  {
   "cell_type": "code",
   "execution_count": 11,
   "metadata": {
    "collapsed": false
   },
   "outputs": [],
   "source": [
    "train_df[\"label_numeric\"] = train_df.apply(lambda x: 1 if x[\"label\"] == \"malicious\" else 0, axis=1)"
   ]
  },
  {
   "cell_type": "code",
   "execution_count": 12,
   "metadata": {
    "collapsed": false,
    "scrolled": true
   },
   "outputs": [],
   "source": [
    "def has_debug(data, column_name):\n",
    "    data[\"has_debug\"] = data.apply(lambda x: 1 if (type(x[column_name]) is list) else 0, axis=1)\n",
    "\n",
    "has_debug(train_df, \"results.peinfo.debug\")\n",
    "has_debug(test_df, \"peinfo.debug\")"
   ]
  },
  {
   "cell_type": "code",
   "execution_count": 13,
   "metadata": {
    "collapsed": false
   },
   "outputs": [],
   "source": [
    "def size_imports(data, column_name):\n",
    "    data[\"size_imports\"] = data.apply(lambda x: len(x[column_name])\n",
    "                                          if (type(x[column_name]) is list) else 0, axis=1)\n",
    "\n",
    "size_imports(train_df, \"results.peinfo.imports\")\n",
    "size_imports(test_df, \"peinfo.imports\")"
   ]
  },
  {
   "cell_type": "code",
   "execution_count": 14,
   "metadata": {
    "collapsed": true
   },
   "outputs": [],
   "source": [
    "def size_exports(data, column_name):\n",
    "    data[\"size_exports\"] = data.apply(lambda x: len(x[column_name])\n",
    "                                          if (type(x[column_name]) is list) else 0, axis=1)\n",
    "\n",
    "size_exports(train_df, \"results.peinfo.exports\")\n",
    "size_exports(test_df, \"peinfo.exports\")"
   ]
  },
  {
   "cell_type": "code",
   "execution_count": 15,
   "metadata": {
    "collapsed": false,
    "scrolled": true
   },
   "outputs": [],
   "source": [
    "def pe_section_mean_size(data, column_name):\n",
    "    data[\"pe_section_mean_size\"] = data.apply(lambda x: np.mean([y[\"size\"] for y in x[column_name]])\n",
    "                                          if (type(x[column_name]) is list and \n",
    "                                              len(x[column_name]) > 0) else 0, axis=1)\n",
    "\n",
    "pe_section_mean_size(train_df, \"results.peinfo.pe_sections\")\n",
    "pe_section_mean_size(test_df, \"peinfo.pe_sections\")"
   ]
  },
  {
   "cell_type": "code",
   "execution_count": 16,
   "metadata": {
    "collapsed": false
   },
   "outputs": [],
   "source": [
    "def pe_section_mean_virtual_size(data, column_name):\n",
    "    data[\"pe_section_mean_virtual_size\"] = data.apply(lambda x: np.mean([y[\"virt_size\"] for y in x[column_name]])\n",
    "                                          if (type(x[column_name]) is list and \n",
    "                                              len(x[column_name]) > 0) else 0, axis=1)\n",
    "\n",
    "pe_section_mean_virtual_size(train_df, \"results.peinfo.pe_sections\")\n",
    "pe_section_mean_virtual_size(test_df, \"peinfo.pe_sections\")"
   ]
  },
  {
   "cell_type": "code",
   "execution_count": 17,
   "metadata": {
    "collapsed": true
   },
   "outputs": [],
   "source": [
    "def pe_section_mean_entropy(data, column_name):\n",
    "    data[\"pe_section_mean_entropy\"] = data.apply(lambda x: np.mean([y[\"entropy\"] for y in x[column_name]])\n",
    "                                          if (type(x[column_name]) is list and \n",
    "                                              len(x[column_name]) > 0) else 0, axis=1)\n",
    "\n",
    "pe_section_mean_entropy(train_df, \"results.peinfo.pe_sections\")\n",
    "pe_section_mean_entropy(test_df, \"peinfo.pe_sections\")"
   ]
  },
  {
   "cell_type": "code",
   "execution_count": 18,
   "metadata": {
    "collapsed": true
   },
   "outputs": [],
   "source": [
    "# results.peinfo.rich_header.checksum is already calculated\n",
    "train_df = train_df.rename(columns = {'results.peinfo.rich_header.checksum':'peinfo.rich_header.checksum'})"
   ]
  },
  {
   "cell_type": "code",
   "execution_count": 19,
   "metadata": {
    "collapsed": true
   },
   "outputs": [],
   "source": [
    "def rich_header_size_values_parsed(data, column_name):\n",
    "    data[\"rich_header_size_values_parsed\"] = data.apply(lambda x: len(x[column_name])\n",
    "                                          if (type(x[column_name]) is list) else 0, axis=1)\n",
    "\n",
    "rich_header_size_values_parsed(train_df, \"results.peinfo.rich_header.values_parsed\")\n",
    "rich_header_size_values_parsed(test_df, \"peinfo.rich_header.values_parsed\")"
   ]
  },
  {
   "cell_type": "code",
   "execution_count": 20,
   "metadata": {
    "collapsed": false
   },
   "outputs": [],
   "source": [
    "def rich_header_size_values_raw(data, column_name):\n",
    "    data[\"rich_header_size_values_raw\"] = data.apply(lambda x: len(x[column_name])\n",
    "                                          if (type(x[column_name]) is list) else 0, axis=1)\n",
    "\n",
    "#rich_header_size_values_raw(train_df, \"results.peinfo.rich_header.values_raw\")\n",
    "#rich_header_size_values_raw(test_df, \"peinfo.rich_header.values_raw\")"
   ]
  },
  {
   "cell_type": "code",
   "execution_count": 21,
   "metadata": {
    "collapsed": false
   },
   "outputs": [
    {
     "data": {
      "text/html": [
       "<div>\n",
       "<table border=\"1\" class=\"dataframe\">\n",
       "  <thead>\n",
       "    <tr style=\"text-align: right;\">\n",
       "      <th></th>\n",
       "      <th>results.peinfo.rich_header</th>\n",
       "      <th>peinfo.rich_header.checksum</th>\n",
       "      <th>results.peinfo.timestamp.timestamp</th>\n",
       "      <th>label_numeric</th>\n",
       "      <th>has_debug</th>\n",
       "      <th>size_imports</th>\n",
       "      <th>size_exports</th>\n",
       "      <th>pe_section_mean_size</th>\n",
       "      <th>pe_section_mean_virtual_size</th>\n",
       "      <th>pe_section_mean_entropy</th>\n",
       "      <th>rich_header_size_values_parsed</th>\n",
       "    </tr>\n",
       "    <tr>\n",
       "      <th>label</th>\n",
       "      <th></th>\n",
       "      <th></th>\n",
       "      <th></th>\n",
       "      <th></th>\n",
       "      <th></th>\n",
       "      <th></th>\n",
       "      <th></th>\n",
       "      <th></th>\n",
       "      <th></th>\n",
       "      <th></th>\n",
       "      <th></th>\n",
       "    </tr>\n",
       "  </thead>\n",
       "  <tbody>\n",
       "    <tr>\n",
       "      <th>benign</th>\n",
       "      <td>NaN</td>\n",
       "      <td>2.192955e+09</td>\n",
       "      <td>1.065898e+09</td>\n",
       "      <td>0.0</td>\n",
       "      <td>0.809634</td>\n",
       "      <td>107.287547</td>\n",
       "      <td>38.519773</td>\n",
       "      <td>67472.626526</td>\n",
       "      <td>69089.419439</td>\n",
       "      <td>3.756720</td>\n",
       "      <td>6.311527</td>\n",
       "    </tr>\n",
       "    <tr>\n",
       "      <th>malicious</th>\n",
       "      <td>NaN</td>\n",
       "      <td>2.166347e+09</td>\n",
       "      <td>1.223420e+09</td>\n",
       "      <td>1.0</td>\n",
       "      <td>0.117400</td>\n",
       "      <td>134.430600</td>\n",
       "      <td>2.790800</td>\n",
       "      <td>313722.160558</td>\n",
       "      <td>169368.557166</td>\n",
       "      <td>4.362899</td>\n",
       "      <td>5.777800</td>\n",
       "    </tr>\n",
       "  </tbody>\n",
       "</table>\n",
       "</div>"
      ],
      "text/plain": [
       "           results.peinfo.rich_header  peinfo.rich_header.checksum  \\\n",
       "label                                                                \n",
       "benign                            NaN                 2.192955e+09   \n",
       "malicious                         NaN                 2.166347e+09   \n",
       "\n",
       "           results.peinfo.timestamp.timestamp  label_numeric  has_debug  \\\n",
       "label                                                                     \n",
       "benign                           1.065898e+09            0.0   0.809634   \n",
       "malicious                        1.223420e+09            1.0   0.117400   \n",
       "\n",
       "           size_imports  size_exports  pe_section_mean_size  \\\n",
       "label                                                         \n",
       "benign       107.287547     38.519773          67472.626526   \n",
       "malicious    134.430600      2.790800         313722.160558   \n",
       "\n",
       "           pe_section_mean_virtual_size  pe_section_mean_entropy  \\\n",
       "label                                                              \n",
       "benign                     69089.419439                 3.756720   \n",
       "malicious                 169368.557166                 4.362899   \n",
       "\n",
       "           rich_header_size_values_parsed  \n",
       "label                                      \n",
       "benign                           6.311527  \n",
       "malicious                        5.777800  "
      ]
     },
     "execution_count": 21,
     "metadata": {},
     "output_type": "execute_result"
    }
   ],
   "source": [
    "train_df.groupby(['label']).mean()"
   ]
  },
  {
   "cell_type": "markdown",
   "metadata": {},
   "source": [
    "## 2.4 Sampling"
   ]
  },
  {
   "cell_type": "markdown",
   "metadata": {},
   "source": [
    "### 2.4.1 Undersampling"
   ]
  },
  {
   "cell_type": "code",
   "execution_count": 22,
   "metadata": {
    "collapsed": false
   },
   "outputs": [],
   "source": [
    "def undersampling(data):\n",
    "    ids_to_sample = data[data[\"label\"] == 0].index.values\n",
    "    sample_size = data[data[\"label\"] == 1].shape[0]\n",
    "    anomalies = data[data[\"label\"] == 1].index.values\n",
    "    \n",
    "    final_ids = np.append(np.random.choice(ids_to_sample, size = sample_size), anomalies)\n",
    "    #print(ids_to_sample)\n",
    "    #data[fake_review]\n",
    "    return data.iloc[final_ids]\n",
    "    \n",
    "#train_df = undersampling(train_df)  "
   ]
  },
  {
   "cell_type": "markdown",
   "metadata": {},
   "source": [
    "### 2.4.2 Oversampling"
   ]
  },
  {
   "cell_type": "code",
   "execution_count": 23,
   "metadata": {
    "collapsed": false
   },
   "outputs": [],
   "source": [
    "def oversampling(data):\n",
    "    anomalies = data[data[\"fake_review\"] == \"Y\"]\n",
    "    data = data.append(anomalies)\n",
    "    data = data.append(anomalies)\n",
    "    data = data.append(anomalies)\n",
    "    data = data.append(anomalies)\n",
    "    data = data.append(anomalies)\n",
    "    data = data.append(anomalies)\n",
    "    return data\n",
    "\n",
    "#train_df_joined = oversampling(train_df_joined)  "
   ]
  },
  {
   "cell_type": "code",
   "execution_count": 24,
   "metadata": {
    "collapsed": false,
    "scrolled": true
   },
   "outputs": [
    {
     "data": {
      "text/plain": [
       "Index(['label', 'results.peinfo.debug', 'results.peinfo.error',\n",
       "       'results.peinfo.exports', 'results.peinfo.imphash',\n",
       "       'results.peinfo.imports', 'results.peinfo.pe_sections',\n",
       "       'results.peinfo.pehash', 'results.peinfo.rich_header',\n",
       "       'peinfo.rich_header.checksum', 'results.peinfo.rich_header.sha256',\n",
       "       'results.peinfo.rich_header.values_parsed',\n",
       "       'results.peinfo.rich_header.values_raw',\n",
       "       'results.peinfo.thread_local_storage',\n",
       "       'results.peinfo.timestamp.human_timestamp',\n",
       "       'results.peinfo.timestamp.timestamp', 'results.peinfo.version_info',\n",
       "       'results.peinfo.version_var', 'results.sha256', 'sha256',\n",
       "       'label_numeric', 'has_debug', 'size_imports', 'size_exports',\n",
       "       'pe_section_mean_size', 'pe_section_mean_virtual_size',\n",
       "       'pe_section_mean_entropy', 'rich_header_size_values_parsed'],\n",
       "      dtype='object')"
      ]
     },
     "execution_count": 24,
     "metadata": {},
     "output_type": "execute_result"
    }
   ],
   "source": [
    "train_df.columns"
   ]
  },
  {
   "cell_type": "markdown",
   "metadata": {},
   "source": [
    "## 2.5 Define global variables for the model"
   ]
  },
  {
   "cell_type": "code",
   "execution_count": 25,
   "metadata": {
    "collapsed": false,
    "scrolled": true
   },
   "outputs": [],
   "source": [
    "def encodeVariables():\n",
    "    \n",
    "    target_variable = \"label_numeric\" # target variable\n",
    "    \n",
    "    dropVariableListTrain = [\n",
    "        \n",
    "        ### All variables in this list will be deleted\n",
    "        \"results.peinfo.debug\",\n",
    "        \"results.peinfo.error\",\n",
    "        \"results.peinfo.exports\",\n",
    "        \"results.peinfo.imphash\",\n",
    "        \"results.peinfo.imports\",\n",
    "        \"results.peinfo.pe_sections\",\n",
    "        \"results.peinfo.pehash\",\n",
    "        \"results.peinfo.rich_header\",\n",
    "        \"results.peinfo.rich_header.sha256\",\n",
    "        \"results.peinfo.rich_header.values_parsed\",\n",
    "        \"results.peinfo.rich_header.values_raw\",\n",
    "        \"results.peinfo.thread_local_storage\",\n",
    "        \"results.peinfo.timestamp.human_timestamp\",\n",
    "        \"results.peinfo.timestamp.timestamp\",\n",
    "        \"results.peinfo.version_info\",\n",
    "        \"results.peinfo.version_var\",\n",
    "        \"results.sha256\",\n",
    "        \"sha256\",\n",
    "        \"peinfo.rich_header.checksum\"\n",
    "        ]\n",
    "    \n",
    "    dropVariableListTest = [\n",
    "        \n",
    "        ### All variables in this list will be deleted\n",
    "        \"peinfo.debug\",\n",
    "        \"peinfo.error\",\n",
    "        \"peinfo.exports\",\n",
    "        \"peinfo.imphash\",\n",
    "        \"peinfo.imports\",\n",
    "        \"peinfo.pe_sections\",\n",
    "        \"peinfo.pehash\",\n",
    "        \"peinfo.rich_header\",\n",
    "        \"peinfo.rich_header.sha256\",\n",
    "        \"peinfo.rich_header.values_parsed\",\n",
    "        \"peinfo.rich_header.values_raw\",\n",
    "        \"peinfo.thread_local_storage\",\n",
    "        \"peinfo.timestamp.human_timestamp\",\n",
    "        \"peinfo.timestamp.timestamp\",\n",
    "        \"peinfo.version_info\",\n",
    "        \"peinfo.version_var\",\n",
    "        \"sha256\",\n",
    "        \"peinfo.rich_header.checksum\"\n",
    "        ]\n",
    " \n",
    "    # Drop variables in the X_train:\n",
    "    X_train = train_df.drop(dropVariableListTrain, axis=1)\n",
    "    \n",
    "    # Drop target variables in the X_train:\n",
    "    X_train = X_train.drop([target_variable, \"label\"], axis=1)\n",
    "    \n",
    "    # Drop variables in the X_test:\n",
    "    X_test = test_df.drop(dropVariableListTest, axis=1)\n",
    "    \n",
    "    # Drop variables in the Y_train:\n",
    "    Y_train = train_df[target_variable]\n",
    "\n",
    "    # The following variables are categorical:\n",
    "    # - proto\n",
    "    # - service\n",
    "    # - state\n",
    "    # - attack_cat (we're not using this one)\n",
    "    # - label\n",
    "    \n",
    "    # Transform categorical variables for X_train:\n",
    "    categoricalVariableList = [\n",
    "        #\"proto\",\n",
    "        #\"service\",\n",
    "        #\"state\"\n",
    "    ]\n",
    "    \n",
    "    # Number of dimensions must be the same in X_train and X_test\n",
    "    assert X_train.shape[1] == X_test.shape[1]\n",
    "    \n",
    "    # Apply dummy variables\n",
    "    #X_all = X_train.append(X_test)\n",
    "    #X_all = pd.get_dummies(X_all, columns = categoricalVariableList)\n",
    "    \n",
    "    #X_train = X_all.iloc[np.arange(0, X_train.shape[0]), :]\n",
    "    #X_test = X_all.iloc[np.arange(X_train.shape[0], X_all.shape[0]), :]\n",
    "    \n",
    "    return X_train, Y_train, X_test\n",
    "\n",
    "#train_df_joined = train_df_joined.iloc[np.random.permutation(len(train_df_joined))]\n",
    "\n",
    "X_train, Y_train, X_test = encodeVariables()"
   ]
  },
  {
   "cell_type": "code",
   "execution_count": 26,
   "metadata": {
    "collapsed": false
   },
   "outputs": [
    {
     "data": {
      "text/plain": [
       "(9754, 7)"
      ]
     },
     "execution_count": 26,
     "metadata": {},
     "output_type": "execute_result"
    }
   ],
   "source": [
    "X_train.shape"
   ]
  },
  {
   "cell_type": "code",
   "execution_count": 27,
   "metadata": {
    "collapsed": false
   },
   "outputs": [
    {
     "data": {
      "text/plain": [
       "(9754, 28)"
      ]
     },
     "execution_count": 27,
     "metadata": {},
     "output_type": "execute_result"
    }
   ],
   "source": [
    "train_df.shape"
   ]
  },
  {
   "cell_type": "code",
   "execution_count": 28,
   "metadata": {
    "collapsed": false
   },
   "outputs": [
    {
     "data": {
      "text/plain": [
       "(46784, 7)"
      ]
     },
     "execution_count": 28,
     "metadata": {},
     "output_type": "execute_result"
    }
   ],
   "source": [
    "X_test.shape"
   ]
  },
  {
   "cell_type": "code",
   "execution_count": 29,
   "metadata": {
    "collapsed": false
   },
   "outputs": [
    {
     "data": {
      "text/plain": [
       "(46784, 25)"
      ]
     },
     "execution_count": 29,
     "metadata": {},
     "output_type": "execute_result"
    }
   ],
   "source": [
    "test_df.shape"
   ]
  },
  {
   "cell_type": "code",
   "execution_count": 30,
   "metadata": {
    "collapsed": false
   },
   "outputs": [
    {
     "data": {
      "text/plain": [
       "array(['has_debug', 'size_imports', 'size_exports', 'pe_section_mean_size',\n",
       "       'pe_section_mean_virtual_size', 'pe_section_mean_entropy',\n",
       "       'rich_header_size_values_parsed'], dtype=object)"
      ]
     },
     "execution_count": 30,
     "metadata": {},
     "output_type": "execute_result"
    }
   ],
   "source": [
    "X_train.columns.values"
   ]
  },
  {
   "cell_type": "code",
   "execution_count": 31,
   "metadata": {
    "collapsed": false
   },
   "outputs": [
    {
     "data": {
      "text/html": [
       "<div>\n",
       "<table border=\"1\" class=\"dataframe\">\n",
       "  <thead>\n",
       "    <tr style=\"text-align: right;\">\n",
       "      <th></th>\n",
       "      <th>has_debug</th>\n",
       "      <th>size_imports</th>\n",
       "      <th>size_exports</th>\n",
       "      <th>pe_section_mean_size</th>\n",
       "      <th>pe_section_mean_virtual_size</th>\n",
       "      <th>pe_section_mean_entropy</th>\n",
       "      <th>rich_header_size_values_parsed</th>\n",
       "    </tr>\n",
       "  </thead>\n",
       "  <tbody>\n",
       "    <tr>\n",
       "      <th>0</th>\n",
       "      <td>1</td>\n",
       "      <td>118</td>\n",
       "      <td>4</td>\n",
       "      <td>34986.666667</td>\n",
       "      <td>36632.333333</td>\n",
       "      <td>4.210211</td>\n",
       "      <td>10</td>\n",
       "    </tr>\n",
       "    <tr>\n",
       "      <th>1</th>\n",
       "      <td>1</td>\n",
       "      <td>144</td>\n",
       "      <td>0</td>\n",
       "      <td>18602.666667</td>\n",
       "      <td>20263.333333</td>\n",
       "      <td>4.140469</td>\n",
       "      <td>7</td>\n",
       "    </tr>\n",
       "    <tr>\n",
       "      <th>2</th>\n",
       "      <td>1</td>\n",
       "      <td>125</td>\n",
       "      <td>2</td>\n",
       "      <td>27340.800000</td>\n",
       "      <td>27105.800000</td>\n",
       "      <td>4.776475</td>\n",
       "      <td>11</td>\n",
       "    </tr>\n",
       "    <tr>\n",
       "      <th>3</th>\n",
       "      <td>1</td>\n",
       "      <td>101</td>\n",
       "      <td>35</td>\n",
       "      <td>16998.400000</td>\n",
       "      <td>20393.600000</td>\n",
       "      <td>2.950164</td>\n",
       "      <td>7</td>\n",
       "    </tr>\n",
       "    <tr>\n",
       "      <th>4</th>\n",
       "      <td>1</td>\n",
       "      <td>262</td>\n",
       "      <td>9</td>\n",
       "      <td>86016.000000</td>\n",
       "      <td>92120.666667</td>\n",
       "      <td>4.728660</td>\n",
       "      <td>10</td>\n",
       "    </tr>\n",
       "    <tr>\n",
       "      <th>5</th>\n",
       "      <td>0</td>\n",
       "      <td>0</td>\n",
       "      <td>0</td>\n",
       "      <td>2048.000000</td>\n",
       "      <td>4096.000000</td>\n",
       "      <td>3.691530</td>\n",
       "      <td>2</td>\n",
       "    </tr>\n",
       "    <tr>\n",
       "      <th>6</th>\n",
       "      <td>1</td>\n",
       "      <td>72</td>\n",
       "      <td>0</td>\n",
       "      <td>5632.000000</td>\n",
       "      <td>5687.333333</td>\n",
       "      <td>3.101004</td>\n",
       "      <td>7</td>\n",
       "    </tr>\n",
       "    <tr>\n",
       "      <th>7</th>\n",
       "      <td>1</td>\n",
       "      <td>273</td>\n",
       "      <td>4</td>\n",
       "      <td>63104.000000</td>\n",
       "      <td>63602.250000</td>\n",
       "      <td>5.398655</td>\n",
       "      <td>9</td>\n",
       "    </tr>\n",
       "    <tr>\n",
       "      <th>8</th>\n",
       "      <td>1</td>\n",
       "      <td>47</td>\n",
       "      <td>3</td>\n",
       "      <td>2048.000000</td>\n",
       "      <td>1805.500000</td>\n",
       "      <td>3.787006</td>\n",
       "      <td>11</td>\n",
       "    </tr>\n",
       "    <tr>\n",
       "      <th>9</th>\n",
       "      <td>1</td>\n",
       "      <td>60</td>\n",
       "      <td>0</td>\n",
       "      <td>17510.400000</td>\n",
       "      <td>17591.200000</td>\n",
       "      <td>4.146200</td>\n",
       "      <td>9</td>\n",
       "    </tr>\n",
       "    <tr>\n",
       "      <th>10</th>\n",
       "      <td>1</td>\n",
       "      <td>154</td>\n",
       "      <td>8</td>\n",
       "      <td>29696.000000</td>\n",
       "      <td>29628.750000</td>\n",
       "      <td>5.219475</td>\n",
       "      <td>8</td>\n",
       "    </tr>\n",
       "    <tr>\n",
       "      <th>11</th>\n",
       "      <td>1</td>\n",
       "      <td>210</td>\n",
       "      <td>6</td>\n",
       "      <td>43520.000000</td>\n",
       "      <td>43820.500000</td>\n",
       "      <td>4.763298</td>\n",
       "      <td>9</td>\n",
       "    </tr>\n",
       "    <tr>\n",
       "      <th>12</th>\n",
       "      <td>1</td>\n",
       "      <td>209</td>\n",
       "      <td>374</td>\n",
       "      <td>85504.000000</td>\n",
       "      <td>86835.833333</td>\n",
       "      <td>4.736925</td>\n",
       "      <td>8</td>\n",
       "    </tr>\n",
       "    <tr>\n",
       "      <th>13</th>\n",
       "      <td>1</td>\n",
       "      <td>234</td>\n",
       "      <td>0</td>\n",
       "      <td>40038.400000</td>\n",
       "      <td>40149.600000</td>\n",
       "      <td>5.233754</td>\n",
       "      <td>9</td>\n",
       "    </tr>\n",
       "    <tr>\n",
       "      <th>14</th>\n",
       "      <td>1</td>\n",
       "      <td>0</td>\n",
       "      <td>0</td>\n",
       "      <td>3584.000000</td>\n",
       "      <td>3197.333333</td>\n",
       "      <td>1.407104</td>\n",
       "      <td>3</td>\n",
       "    </tr>\n",
       "    <tr>\n",
       "      <th>15</th>\n",
       "      <td>1</td>\n",
       "      <td>127</td>\n",
       "      <td>19</td>\n",
       "      <td>55168.000000</td>\n",
       "      <td>55042.250000</td>\n",
       "      <td>5.025798</td>\n",
       "      <td>9</td>\n",
       "    </tr>\n",
       "    <tr>\n",
       "      <th>16</th>\n",
       "      <td>1</td>\n",
       "      <td>55</td>\n",
       "      <td>15</td>\n",
       "      <td>5939.200000</td>\n",
       "      <td>6034.400000</td>\n",
       "      <td>3.028289</td>\n",
       "      <td>8</td>\n",
       "    </tr>\n",
       "    <tr>\n",
       "      <th>17</th>\n",
       "      <td>1</td>\n",
       "      <td>0</td>\n",
       "      <td>1</td>\n",
       "      <td>1706.666667</td>\n",
       "      <td>1437.333333</td>\n",
       "      <td>3.173287</td>\n",
       "      <td>3</td>\n",
       "    </tr>\n",
       "    <tr>\n",
       "      <th>18</th>\n",
       "      <td>1</td>\n",
       "      <td>3</td>\n",
       "      <td>1</td>\n",
       "      <td>3072.000000</td>\n",
       "      <td>521.000000</td>\n",
       "      <td>0.664765</td>\n",
       "      <td>5</td>\n",
       "    </tr>\n",
       "    <tr>\n",
       "      <th>19</th>\n",
       "      <td>1</td>\n",
       "      <td>310</td>\n",
       "      <td>4</td>\n",
       "      <td>62361.600000</td>\n",
       "      <td>62671.400000</td>\n",
       "      <td>5.099092</td>\n",
       "      <td>8</td>\n",
       "    </tr>\n",
       "    <tr>\n",
       "      <th>20</th>\n",
       "      <td>0</td>\n",
       "      <td>0</td>\n",
       "      <td>0</td>\n",
       "      <td>4608.000000</td>\n",
       "      <td>8192.000000</td>\n",
       "      <td>3.827407</td>\n",
       "      <td>2</td>\n",
       "    </tr>\n",
       "    <tr>\n",
       "      <th>21</th>\n",
       "      <td>1</td>\n",
       "      <td>0</td>\n",
       "      <td>11</td>\n",
       "      <td>2176.000000</td>\n",
       "      <td>1951.250000</td>\n",
       "      <td>3.496957</td>\n",
       "      <td>5</td>\n",
       "    </tr>\n",
       "    <tr>\n",
       "      <th>22</th>\n",
       "      <td>1</td>\n",
       "      <td>82</td>\n",
       "      <td>13</td>\n",
       "      <td>17203.200000</td>\n",
       "      <td>16114.400000</td>\n",
       "      <td>3.942011</td>\n",
       "      <td>8</td>\n",
       "    </tr>\n",
       "    <tr>\n",
       "      <th>23</th>\n",
       "      <td>1</td>\n",
       "      <td>63</td>\n",
       "      <td>52</td>\n",
       "      <td>14745.600000</td>\n",
       "      <td>14604.400000</td>\n",
       "      <td>5.650517</td>\n",
       "      <td>9</td>\n",
       "    </tr>\n",
       "    <tr>\n",
       "      <th>24</th>\n",
       "      <td>1</td>\n",
       "      <td>42</td>\n",
       "      <td>3</td>\n",
       "      <td>1920.000000</td>\n",
       "      <td>1662.250000</td>\n",
       "      <td>3.326592</td>\n",
       "      <td>7</td>\n",
       "    </tr>\n",
       "    <tr>\n",
       "      <th>25</th>\n",
       "      <td>1</td>\n",
       "      <td>146</td>\n",
       "      <td>0</td>\n",
       "      <td>32938.666667</td>\n",
       "      <td>32701.333333</td>\n",
       "      <td>4.500254</td>\n",
       "      <td>9</td>\n",
       "    </tr>\n",
       "    <tr>\n",
       "      <th>26</th>\n",
       "      <td>1</td>\n",
       "      <td>81</td>\n",
       "      <td>4</td>\n",
       "      <td>9728.000000</td>\n",
       "      <td>9698.400000</td>\n",
       "      <td>3.466522</td>\n",
       "      <td>9</td>\n",
       "    </tr>\n",
       "    <tr>\n",
       "      <th>27</th>\n",
       "      <td>1</td>\n",
       "      <td>118</td>\n",
       "      <td>1</td>\n",
       "      <td>12928.000000</td>\n",
       "      <td>13716.250000</td>\n",
       "      <td>4.161372</td>\n",
       "      <td>4</td>\n",
       "    </tr>\n",
       "    <tr>\n",
       "      <th>28</th>\n",
       "      <td>1</td>\n",
       "      <td>126</td>\n",
       "      <td>2</td>\n",
       "      <td>9856.000000</td>\n",
       "      <td>9707.750000</td>\n",
       "      <td>4.431604</td>\n",
       "      <td>7</td>\n",
       "    </tr>\n",
       "    <tr>\n",
       "      <th>29</th>\n",
       "      <td>1</td>\n",
       "      <td>135</td>\n",
       "      <td>0</td>\n",
       "      <td>24917.333333</td>\n",
       "      <td>27170.666667</td>\n",
       "      <td>4.883190</td>\n",
       "      <td>7</td>\n",
       "    </tr>\n",
       "    <tr>\n",
       "      <th>...</th>\n",
       "      <td>...</td>\n",
       "      <td>...</td>\n",
       "      <td>...</td>\n",
       "      <td>...</td>\n",
       "      <td>...</td>\n",
       "      <td>...</td>\n",
       "      <td>...</td>\n",
       "    </tr>\n",
       "    <tr>\n",
       "      <th>9724</th>\n",
       "      <td>0</td>\n",
       "      <td>155</td>\n",
       "      <td>0</td>\n",
       "      <td>9874.285714</td>\n",
       "      <td>30460.571429</td>\n",
       "      <td>3.256756</td>\n",
       "      <td>0</td>\n",
       "    </tr>\n",
       "    <tr>\n",
       "      <th>9725</th>\n",
       "      <td>0</td>\n",
       "      <td>163</td>\n",
       "      <td>0</td>\n",
       "      <td>78745.600000</td>\n",
       "      <td>80058.400000</td>\n",
       "      <td>4.276867</td>\n",
       "      <td>9</td>\n",
       "    </tr>\n",
       "    <tr>\n",
       "      <th>9726</th>\n",
       "      <td>0</td>\n",
       "      <td>30</td>\n",
       "      <td>0</td>\n",
       "      <td>23210.666667</td>\n",
       "      <td>22878.666667</td>\n",
       "      <td>2.832490</td>\n",
       "      <td>1</td>\n",
       "    </tr>\n",
       "    <tr>\n",
       "      <th>9727</th>\n",
       "      <td>0</td>\n",
       "      <td>122</td>\n",
       "      <td>0</td>\n",
       "      <td>284416.000000</td>\n",
       "      <td>286353.500000</td>\n",
       "      <td>6.096373</td>\n",
       "      <td>10</td>\n",
       "    </tr>\n",
       "    <tr>\n",
       "      <th>9728</th>\n",
       "      <td>0</td>\n",
       "      <td>455</td>\n",
       "      <td>0</td>\n",
       "      <td>128384.000000</td>\n",
       "      <td>151245.750000</td>\n",
       "      <td>5.185407</td>\n",
       "      <td>10</td>\n",
       "    </tr>\n",
       "    <tr>\n",
       "      <th>9729</th>\n",
       "      <td>0</td>\n",
       "      <td>155</td>\n",
       "      <td>0</td>\n",
       "      <td>7680.000000</td>\n",
       "      <td>122585.600000</td>\n",
       "      <td>3.923700</td>\n",
       "      <td>5</td>\n",
       "    </tr>\n",
       "    <tr>\n",
       "      <th>9730</th>\n",
       "      <td>0</td>\n",
       "      <td>0</td>\n",
       "      <td>0</td>\n",
       "      <td>52224.000000</td>\n",
       "      <td>54086.000000</td>\n",
       "      <td>1.594071</td>\n",
       "      <td>11</td>\n",
       "    </tr>\n",
       "    <tr>\n",
       "      <th>9731</th>\n",
       "      <td>0</td>\n",
       "      <td>455</td>\n",
       "      <td>0</td>\n",
       "      <td>128384.000000</td>\n",
       "      <td>151245.750000</td>\n",
       "      <td>5.185407</td>\n",
       "      <td>10</td>\n",
       "    </tr>\n",
       "    <tr>\n",
       "      <th>9732</th>\n",
       "      <td>0</td>\n",
       "      <td>95</td>\n",
       "      <td>0</td>\n",
       "      <td>141994.666667</td>\n",
       "      <td>149646.666667</td>\n",
       "      <td>4.434329</td>\n",
       "      <td>1</td>\n",
       "    </tr>\n",
       "    <tr>\n",
       "      <th>9733</th>\n",
       "      <td>0</td>\n",
       "      <td>125</td>\n",
       "      <td>0</td>\n",
       "      <td>15680.000000</td>\n",
       "      <td>15816.375000</td>\n",
       "      <td>2.365142</td>\n",
       "      <td>0</td>\n",
       "    </tr>\n",
       "    <tr>\n",
       "      <th>9734</th>\n",
       "      <td>1</td>\n",
       "      <td>85</td>\n",
       "      <td>0</td>\n",
       "      <td>54579.200000</td>\n",
       "      <td>56213.800000</td>\n",
       "      <td>5.192621</td>\n",
       "      <td>8</td>\n",
       "    </tr>\n",
       "    <tr>\n",
       "      <th>9735</th>\n",
       "      <td>0</td>\n",
       "      <td>64</td>\n",
       "      <td>0</td>\n",
       "      <td>50432.000000</td>\n",
       "      <td>51503.000000</td>\n",
       "      <td>5.175438</td>\n",
       "      <td>8</td>\n",
       "    </tr>\n",
       "    <tr>\n",
       "      <th>9736</th>\n",
       "      <td>0</td>\n",
       "      <td>2</td>\n",
       "      <td>0</td>\n",
       "      <td>43712.000000</td>\n",
       "      <td>44977.625000</td>\n",
       "      <td>5.204924</td>\n",
       "      <td>0</td>\n",
       "    </tr>\n",
       "    <tr>\n",
       "      <th>9737</th>\n",
       "      <td>0</td>\n",
       "      <td>3</td>\n",
       "      <td>0</td>\n",
       "      <td>38848.000000</td>\n",
       "      <td>40189.500000</td>\n",
       "      <td>5.179137</td>\n",
       "      <td>5</td>\n",
       "    </tr>\n",
       "    <tr>\n",
       "      <th>9738</th>\n",
       "      <td>0</td>\n",
       "      <td>66</td>\n",
       "      <td>0</td>\n",
       "      <td>343466.666667</td>\n",
       "      <td>345386.666667</td>\n",
       "      <td>3.801740</td>\n",
       "      <td>0</td>\n",
       "    </tr>\n",
       "    <tr>\n",
       "      <th>9739</th>\n",
       "      <td>0</td>\n",
       "      <td>7</td>\n",
       "      <td>1</td>\n",
       "      <td>5290.666667</td>\n",
       "      <td>19114.666667</td>\n",
       "      <td>3.637553</td>\n",
       "      <td>8</td>\n",
       "    </tr>\n",
       "    <tr>\n",
       "      <th>9740</th>\n",
       "      <td>0</td>\n",
       "      <td>68</td>\n",
       "      <td>0</td>\n",
       "      <td>93549.714286</td>\n",
       "      <td>96865.142857</td>\n",
       "      <td>3.524396</td>\n",
       "      <td>0</td>\n",
       "    </tr>\n",
       "    <tr>\n",
       "      <th>9741</th>\n",
       "      <td>0</td>\n",
       "      <td>30</td>\n",
       "      <td>0</td>\n",
       "      <td>23210.666667</td>\n",
       "      <td>22878.666667</td>\n",
       "      <td>2.832490</td>\n",
       "      <td>1</td>\n",
       "    </tr>\n",
       "    <tr>\n",
       "      <th>9742</th>\n",
       "      <td>0</td>\n",
       "      <td>67</td>\n",
       "      <td>0</td>\n",
       "      <td>39936.000000</td>\n",
       "      <td>54614.625000</td>\n",
       "      <td>5.415370</td>\n",
       "      <td>0</td>\n",
       "    </tr>\n",
       "    <tr>\n",
       "      <th>9743</th>\n",
       "      <td>0</td>\n",
       "      <td>42</td>\n",
       "      <td>0</td>\n",
       "      <td>7899.428571</td>\n",
       "      <td>7617.142857</td>\n",
       "      <td>2.970233</td>\n",
       "      <td>0</td>\n",
       "    </tr>\n",
       "    <tr>\n",
       "      <th>9744</th>\n",
       "      <td>0</td>\n",
       "      <td>68</td>\n",
       "      <td>0</td>\n",
       "      <td>27648.000000</td>\n",
       "      <td>29946.625000</td>\n",
       "      <td>5.986861</td>\n",
       "      <td>0</td>\n",
       "    </tr>\n",
       "    <tr>\n",
       "      <th>9745</th>\n",
       "      <td>0</td>\n",
       "      <td>155</td>\n",
       "      <td>0</td>\n",
       "      <td>7680.000000</td>\n",
       "      <td>122574.400000</td>\n",
       "      <td>3.912758</td>\n",
       "      <td>5</td>\n",
       "    </tr>\n",
       "    <tr>\n",
       "      <th>9746</th>\n",
       "      <td>0</td>\n",
       "      <td>63</td>\n",
       "      <td>0</td>\n",
       "      <td>74547.200000</td>\n",
       "      <td>76633.200000</td>\n",
       "      <td>5.693091</td>\n",
       "      <td>0</td>\n",
       "    </tr>\n",
       "    <tr>\n",
       "      <th>9747</th>\n",
       "      <td>0</td>\n",
       "      <td>91</td>\n",
       "      <td>0</td>\n",
       "      <td>86528.000000</td>\n",
       "      <td>87979.400000</td>\n",
       "      <td>4.332123</td>\n",
       "      <td>8</td>\n",
       "    </tr>\n",
       "    <tr>\n",
       "      <th>9748</th>\n",
       "      <td>0</td>\n",
       "      <td>342</td>\n",
       "      <td>0</td>\n",
       "      <td>124800.000000</td>\n",
       "      <td>127144.250000</td>\n",
       "      <td>6.017231</td>\n",
       "      <td>9</td>\n",
       "    </tr>\n",
       "    <tr>\n",
       "      <th>9749</th>\n",
       "      <td>0</td>\n",
       "      <td>116</td>\n",
       "      <td>0</td>\n",
       "      <td>101068.800000</td>\n",
       "      <td>102424.200000</td>\n",
       "      <td>5.663248</td>\n",
       "      <td>8</td>\n",
       "    </tr>\n",
       "    <tr>\n",
       "      <th>9750</th>\n",
       "      <td>0</td>\n",
       "      <td>49</td>\n",
       "      <td>0</td>\n",
       "      <td>20480.000000</td>\n",
       "      <td>20613.000000</td>\n",
       "      <td>4.617059</td>\n",
       "      <td>7</td>\n",
       "    </tr>\n",
       "    <tr>\n",
       "      <th>9751</th>\n",
       "      <td>0</td>\n",
       "      <td>155</td>\n",
       "      <td>0</td>\n",
       "      <td>7680.000000</td>\n",
       "      <td>122574.400000</td>\n",
       "      <td>3.912886</td>\n",
       "      <td>5</td>\n",
       "    </tr>\n",
       "    <tr>\n",
       "      <th>9752</th>\n",
       "      <td>0</td>\n",
       "      <td>67</td>\n",
       "      <td>0</td>\n",
       "      <td>91282.285714</td>\n",
       "      <td>92341.714286</td>\n",
       "      <td>6.658775</td>\n",
       "      <td>0</td>\n",
       "    </tr>\n",
       "    <tr>\n",
       "      <th>9753</th>\n",
       "      <td>0</td>\n",
       "      <td>125</td>\n",
       "      <td>0</td>\n",
       "      <td>15680.000000</td>\n",
       "      <td>15816.375000</td>\n",
       "      <td>2.365142</td>\n",
       "      <td>0</td>\n",
       "    </tr>\n",
       "  </tbody>\n",
       "</table>\n",
       "<p>9754 rows × 7 columns</p>\n",
       "</div>"
      ],
      "text/plain": [
       "      has_debug  size_imports  size_exports  pe_section_mean_size  \\\n",
       "0             1           118             4          34986.666667   \n",
       "1             1           144             0          18602.666667   \n",
       "2             1           125             2          27340.800000   \n",
       "3             1           101            35          16998.400000   \n",
       "4             1           262             9          86016.000000   \n",
       "5             0             0             0           2048.000000   \n",
       "6             1            72             0           5632.000000   \n",
       "7             1           273             4          63104.000000   \n",
       "8             1            47             3           2048.000000   \n",
       "9             1            60             0          17510.400000   \n",
       "10            1           154             8          29696.000000   \n",
       "11            1           210             6          43520.000000   \n",
       "12            1           209           374          85504.000000   \n",
       "13            1           234             0          40038.400000   \n",
       "14            1             0             0           3584.000000   \n",
       "15            1           127            19          55168.000000   \n",
       "16            1            55            15           5939.200000   \n",
       "17            1             0             1           1706.666667   \n",
       "18            1             3             1           3072.000000   \n",
       "19            1           310             4          62361.600000   \n",
       "20            0             0             0           4608.000000   \n",
       "21            1             0            11           2176.000000   \n",
       "22            1            82            13          17203.200000   \n",
       "23            1            63            52          14745.600000   \n",
       "24            1            42             3           1920.000000   \n",
       "25            1           146             0          32938.666667   \n",
       "26            1            81             4           9728.000000   \n",
       "27            1           118             1          12928.000000   \n",
       "28            1           126             2           9856.000000   \n",
       "29            1           135             0          24917.333333   \n",
       "...         ...           ...           ...                   ...   \n",
       "9724          0           155             0           9874.285714   \n",
       "9725          0           163             0          78745.600000   \n",
       "9726          0            30             0          23210.666667   \n",
       "9727          0           122             0         284416.000000   \n",
       "9728          0           455             0         128384.000000   \n",
       "9729          0           155             0           7680.000000   \n",
       "9730          0             0             0          52224.000000   \n",
       "9731          0           455             0         128384.000000   \n",
       "9732          0            95             0         141994.666667   \n",
       "9733          0           125             0          15680.000000   \n",
       "9734          1            85             0          54579.200000   \n",
       "9735          0            64             0          50432.000000   \n",
       "9736          0             2             0          43712.000000   \n",
       "9737          0             3             0          38848.000000   \n",
       "9738          0            66             0         343466.666667   \n",
       "9739          0             7             1           5290.666667   \n",
       "9740          0            68             0          93549.714286   \n",
       "9741          0            30             0          23210.666667   \n",
       "9742          0            67             0          39936.000000   \n",
       "9743          0            42             0           7899.428571   \n",
       "9744          0            68             0          27648.000000   \n",
       "9745          0           155             0           7680.000000   \n",
       "9746          0            63             0          74547.200000   \n",
       "9747          0            91             0          86528.000000   \n",
       "9748          0           342             0         124800.000000   \n",
       "9749          0           116             0         101068.800000   \n",
       "9750          0            49             0          20480.000000   \n",
       "9751          0           155             0           7680.000000   \n",
       "9752          0            67             0          91282.285714   \n",
       "9753          0           125             0          15680.000000   \n",
       "\n",
       "      pe_section_mean_virtual_size  pe_section_mean_entropy  \\\n",
       "0                     36632.333333                 4.210211   \n",
       "1                     20263.333333                 4.140469   \n",
       "2                     27105.800000                 4.776475   \n",
       "3                     20393.600000                 2.950164   \n",
       "4                     92120.666667                 4.728660   \n",
       "5                      4096.000000                 3.691530   \n",
       "6                      5687.333333                 3.101004   \n",
       "7                     63602.250000                 5.398655   \n",
       "8                      1805.500000                 3.787006   \n",
       "9                     17591.200000                 4.146200   \n",
       "10                    29628.750000                 5.219475   \n",
       "11                    43820.500000                 4.763298   \n",
       "12                    86835.833333                 4.736925   \n",
       "13                    40149.600000                 5.233754   \n",
       "14                     3197.333333                 1.407104   \n",
       "15                    55042.250000                 5.025798   \n",
       "16                     6034.400000                 3.028289   \n",
       "17                     1437.333333                 3.173287   \n",
       "18                      521.000000                 0.664765   \n",
       "19                    62671.400000                 5.099092   \n",
       "20                     8192.000000                 3.827407   \n",
       "21                     1951.250000                 3.496957   \n",
       "22                    16114.400000                 3.942011   \n",
       "23                    14604.400000                 5.650517   \n",
       "24                     1662.250000                 3.326592   \n",
       "25                    32701.333333                 4.500254   \n",
       "26                     9698.400000                 3.466522   \n",
       "27                    13716.250000                 4.161372   \n",
       "28                     9707.750000                 4.431604   \n",
       "29                    27170.666667                 4.883190   \n",
       "...                            ...                      ...   \n",
       "9724                  30460.571429                 3.256756   \n",
       "9725                  80058.400000                 4.276867   \n",
       "9726                  22878.666667                 2.832490   \n",
       "9727                 286353.500000                 6.096373   \n",
       "9728                 151245.750000                 5.185407   \n",
       "9729                 122585.600000                 3.923700   \n",
       "9730                  54086.000000                 1.594071   \n",
       "9731                 151245.750000                 5.185407   \n",
       "9732                 149646.666667                 4.434329   \n",
       "9733                  15816.375000                 2.365142   \n",
       "9734                  56213.800000                 5.192621   \n",
       "9735                  51503.000000                 5.175438   \n",
       "9736                  44977.625000                 5.204924   \n",
       "9737                  40189.500000                 5.179137   \n",
       "9738                 345386.666667                 3.801740   \n",
       "9739                  19114.666667                 3.637553   \n",
       "9740                  96865.142857                 3.524396   \n",
       "9741                  22878.666667                 2.832490   \n",
       "9742                  54614.625000                 5.415370   \n",
       "9743                   7617.142857                 2.970233   \n",
       "9744                  29946.625000                 5.986861   \n",
       "9745                 122574.400000                 3.912758   \n",
       "9746                  76633.200000                 5.693091   \n",
       "9747                  87979.400000                 4.332123   \n",
       "9748                 127144.250000                 6.017231   \n",
       "9749                 102424.200000                 5.663248   \n",
       "9750                  20613.000000                 4.617059   \n",
       "9751                 122574.400000                 3.912886   \n",
       "9752                  92341.714286                 6.658775   \n",
       "9753                  15816.375000                 2.365142   \n",
       "\n",
       "      rich_header_size_values_parsed  \n",
       "0                                 10  \n",
       "1                                  7  \n",
       "2                                 11  \n",
       "3                                  7  \n",
       "4                                 10  \n",
       "5                                  2  \n",
       "6                                  7  \n",
       "7                                  9  \n",
       "8                                 11  \n",
       "9                                  9  \n",
       "10                                 8  \n",
       "11                                 9  \n",
       "12                                 8  \n",
       "13                                 9  \n",
       "14                                 3  \n",
       "15                                 9  \n",
       "16                                 8  \n",
       "17                                 3  \n",
       "18                                 5  \n",
       "19                                 8  \n",
       "20                                 2  \n",
       "21                                 5  \n",
       "22                                 8  \n",
       "23                                 9  \n",
       "24                                 7  \n",
       "25                                 9  \n",
       "26                                 9  \n",
       "27                                 4  \n",
       "28                                 7  \n",
       "29                                 7  \n",
       "...                              ...  \n",
       "9724                               0  \n",
       "9725                               9  \n",
       "9726                               1  \n",
       "9727                              10  \n",
       "9728                              10  \n",
       "9729                               5  \n",
       "9730                              11  \n",
       "9731                              10  \n",
       "9732                               1  \n",
       "9733                               0  \n",
       "9734                               8  \n",
       "9735                               8  \n",
       "9736                               0  \n",
       "9737                               5  \n",
       "9738                               0  \n",
       "9739                               8  \n",
       "9740                               0  \n",
       "9741                               1  \n",
       "9742                               0  \n",
       "9743                               0  \n",
       "9744                               0  \n",
       "9745                               5  \n",
       "9746                               0  \n",
       "9747                               8  \n",
       "9748                               9  \n",
       "9749                               8  \n",
       "9750                               7  \n",
       "9751                               5  \n",
       "9752                               0  \n",
       "9753                               0  \n",
       "\n",
       "[9754 rows x 7 columns]"
      ]
     },
     "execution_count": 31,
     "metadata": {},
     "output_type": "execute_result"
    }
   ],
   "source": [
    "X_train"
   ]
  },
  {
   "cell_type": "code",
   "execution_count": 32,
   "metadata": {
    "collapsed": false
   },
   "outputs": [
    {
     "data": {
      "image/png": "[encoded data removed]",
      "text/plain": [
       "<matplotlib.figure.Figure at 0x191e2d97cf8>"
      ]
     },
     "metadata": {},
     "output_type": "display_data"
    }
   ],
   "source": [
    "def plotCorrelations(data):\n",
    "    plt.figure(figsize=(8, 6), dpi=500)\n",
    "    corr = data.corr()\n",
    "    sns.heatmap(corr, \n",
    "                xticklabels=corr.columns.values,\n",
    "                yticklabels=corr.columns.values)\n",
    "    \n",
    "plotCorrelations(train_df)"
   ]
  },
  {
   "cell_type": "code",
   "execution_count": 33,
   "metadata": {
    "collapsed": false
   },
   "outputs": [],
   "source": [
    "import sklearn.decomposition\n",
    "\n",
    "def performPCA():\n",
    "    global X_train\n",
    "    global X_test\n",
    "    pca = sklearn.decomposition.PCA(n_components = 30)\n",
    "    pca.fit(X_train)\n",
    "    X_train = pca.transform(X_train)\n",
    "    X_test = pca.transform(X_test)\n",
    "    \n",
    "#performPCA()"
   ]
  },
  {
   "cell_type": "markdown",
   "metadata": {},
   "source": [
    "### Normalize features"
   ]
  },
  {
   "cell_type": "code",
   "execution_count": 34,
   "metadata": {
    "collapsed": false
   },
   "outputs": [],
   "source": [
    "def featureNormalization():\n",
    "    global X_train\n",
    "    global X_test\n",
    "    \n",
    "    scaler = skpre.StandardScaler().fit(X_train)\n",
    "    X_train = scaler.transform(X_train)\n",
    "    X_test = scaler.transform(X_test)\n",
    "    \n",
    "#featureNormalization()"
   ]
  },
  {
   "cell_type": "markdown",
   "metadata": {},
   "source": [
    "## 3.1 - Model selection based on which models do best in CV using default settings:"
   ]
  },
  {
   "cell_type": "code",
   "execution_count": 35,
   "metadata": {
    "collapsed": false
   },
   "outputs": [],
   "source": [
    "from sklearn.ensemble import RandomForestClassifier\n",
    "rf = RandomForestClassifier(random_state = 2).fit(X_train, Y_train)"
   ]
  },
  {
   "cell_type": "code",
   "execution_count": 36,
   "metadata": {
    "collapsed": false,
    "scrolled": true
   },
   "outputs": [
    {
     "data": {
      "text/plain": [
       "array(['has_debug', 'size_imports', 'size_exports', 'pe_section_mean_size',\n",
       "       'pe_section_mean_virtual_size', 'pe_section_mean_entropy',\n",
       "       'rich_header_size_values_parsed'], dtype=object)"
      ]
     },
     "execution_count": 36,
     "metadata": {},
     "output_type": "execute_result"
    }
   ],
   "source": [
    "X_train.columns.values"
   ]
  },
  {
   "cell_type": "code",
   "execution_count": 37,
   "metadata": {
    "collapsed": false,
    "scrolled": true
   },
   "outputs": [
    {
     "data": {
      "text/plain": [
       "array([ 0.28242316,  0.16480864,  0.1647912 ,  0.05645114,  0.10856051,\n",
       "        0.08033726,  0.14262809])"
      ]
     },
     "execution_count": 37,
     "metadata": {},
     "output_type": "execute_result"
    }
   ],
   "source": [
    "rf.feature_importances_"
   ]
  },
  {
   "cell_type": "code",
   "execution_count": 38,
   "metadata": {
    "collapsed": false
   },
   "outputs": [
    {
     "data": {
      "text/plain": [
       "[(0.28242316224416075, 'has_debug'),\n",
       " (0.16480863875447974, 'size_imports'),\n",
       " (0.16479119733744765, 'size_exports'),\n",
       " (0.14262809161328721, 'rich_header_size_values_parsed'),\n",
       " (0.10856050973136103, 'pe_section_mean_virtual_size'),\n",
       " (0.080337256593893902, 'pe_section_mean_entropy'),\n",
       " (0.056451143725369711, 'pe_section_mean_size')]"
      ]
     },
     "execution_count": 38,
     "metadata": {},
     "output_type": "execute_result"
    }
   ],
   "source": [
    "fe_v = rf.feature_importances_\n",
    "\n",
    "fe_n = X_train.columns.values\n",
    "\n",
    "assert len(fe_v) == len(fe_n)\n",
    "\n",
    "features = []\n",
    "for i in range(0, len(fe_v)):\n",
    "    features.append((fe_v[i], fe_n[i]))\n",
    "    \n",
    "features.sort(key = lambda x: x[0], reverse = True)\n",
    "features"
   ]
  },
  {
   "cell_type": "code",
   "execution_count": null,
   "metadata": {
    "collapsed": false,
    "scrolled": true
   },
   "outputs": [],
   "source": [
    "#inspired in http://machinelearningmastery.com/compare-machine-learning-algorithms-python-scikit-learn/\n",
    "\n",
    "import sklearn.model_selection as mds\n",
    "from sklearn.linear_model import LogisticRegression\n",
    "from sklearn.tree import DecisionTreeClassifier\n",
    "from sklearn.neighbors import KNeighborsClassifier\n",
    "from sklearn.discriminant_analysis import LinearDiscriminantAnalysis\n",
    "from sklearn.naive_bayes import GaussianNB\n",
    "from sklearn.svm import SVC\n",
    "from sklearn.neural_network import MLPClassifier\n",
    "from sklearn.ensemble import RandomForestClassifier, AdaBoostClassifier\n",
    "#import xgboost as xgb\n",
    "\n",
    "def modelSelection():\n",
    "\n",
    "    # prepare data\n",
    "\n",
    "    #Y_train = train_df[:,-1]\n",
    "    #X_train = train_df[:,:-1]\n",
    "\n",
    "    #Y_train = train_df[len(train_df.columns)-1]\n",
    "    #X_train = train_df.drop(len(train_df.columns)-1,axis=1)\n",
    "\n",
    "    # prepare configuration for cross validation test harness\n",
    "    num_folds = 10\n",
    "\n",
    "    # prepare models\n",
    "    models = []\n",
    "    models.append(('LR', LogisticRegression(random_state = 2)))\n",
    "    models.append(('LDA', LinearDiscriminantAnalysis()))\n",
    "    models.append(('KNN', KNeighborsClassifier()))\n",
    "    models.append(('CART', DecisionTreeClassifier(random_state = 2)))\n",
    "    models.append(('NB', GaussianNB()))\n",
    "    #models.append(('SVM-Linear', SVC(kernel=\"linear\")))\n",
    "    #models.append(('SVM-Poly', SVC(kernel=\"poly\")))\n",
    "    #models.append(('SVM-RBF', SVC(kernel=\"rbf\", random_state = 2)))\n",
    "    models.append(('NN', MLPClassifier(random_state = 2)))\n",
    "    models.append(('RF-normal', RandomForestClassifier(random_state = 2)))\n",
    "    models.append(('RF-tuned', RandomForestClassifier(criterion=\"entropy\", n_estimators=47, random_state = 2)))\n",
    "    models.append(('AB', AdaBoostClassifier(random_state = 2)))\n",
    "    #models.append(('XGB', xgb.XGBClassifier()))\n",
    "\n",
    "    # evaluate each model in turn\n",
    "    results = []\n",
    "    scoring = 'roc_auc' # try with 'roc_auc', f1'\n",
    "\n",
    "    for model_name, model in models:\n",
    "        kfold = mds.StratifiedKFold(n_splits=num_folds, shuffle=True, random_state=2)\n",
    "        cv_results = mds.cross_val_score(model, X_train, Y_train, cv=kfold, scoring=scoring)\n",
    "        results.append({\"name\": model_name, \"cv_results\": cv_results, \"mean\": cv_results.mean(), \"std\": cv_results.std()})\n",
    "        print(\"%s: %f (%f)\" % (model_name, cv_results.mean(), cv_results.std()))\n",
    "\n",
    "    # boxplot algorithm comparison\n",
    "    fig = plt.figure(figsize=(13, 5), dpi=500)\n",
    "    fig.suptitle('Algorithm Comparison')\n",
    "    ax = fig.add_subplot(111)\n",
    "    plt.boxplot([x[\"cv_results\"] for x in results])\n",
    "    ax.set_xticklabels([x[\"name\"] for x in results])\n",
    "    plt.show()\n",
    "\n",
    "    # order the models by the mean auc\n",
    "    #results_by_strategy.sort(key=lambda x: x[\"mean\"], reverse=True)\n",
    "    #print([(x[\"name\"], x[\"mean\"]) for x in results])\n",
    "\n",
    "modelSelection()"
   ]
  },
  {
   "cell_type": "markdown",
   "metadata": {},
   "source": [
    "# 4 - Submission to Kaggle"
   ]
  },
  {
   "cell_type": "code",
   "execution_count": null,
   "metadata": {
    "collapsed": false
   },
   "outputs": [],
   "source": [
    "from sklearn.ensemble import RandomForestClassifier\n",
    "\n",
    "######################################\n",
    "# Function Save Data To CSV\n",
    "######################################\n",
    "def saveDataToCSV(ids, Y_pred):\n",
    "    submission = pd.DataFrame({\n",
    "        \"sha256\": ids,\n",
    "        \"label\": Y_pred\n",
    "    })\n",
    "    submission = submission[['sha256', 'label']]\n",
    "    submission.to_csv('submission.csv', index=False)\n",
    "\n",
    "# choose algorithm\n",
    "def makeSubmissionKaggle(algorithm):\n",
    "    global test_df\n",
    "    \n",
    "    algorithm.fit(X_train, Y_train)\n",
    "    Y_pred = algorithm.predict(X_test)\n",
    "    Y_pred = Y_pred.astype(int)\n",
    "    Y_pred = [\"malicious\" if y == 1 else \"benign\" for y in Y_pred]\n",
    "\n",
    "    # save data to CSV\n",
    "    saveDataToCSV(test_df[\"sha256\"].values, Y_pred)\n",
    "    \n",
    "#def makeSubmissionAnomalyKaggle(algorithm):\n",
    "#    algorithm.fit(X_train, Y_train)\n",
    "#    Y_pred = algorithm.predict(X_test)\n",
    "#    Y_pred = Y_pred.astype(int)\n",
    "#    Y_pred = [1 if x == 1 else 0 for x in Y_pred]\n",
    "\n",
    "    # save data to CSV\n",
    "#    saveDataToCSV(df_test, Y_pred)\n",
    "    \n",
    "#makeSubmissionKaggle(\"07-spec-mean\", xgb.XGBClassifier( learning_rate=0.01, n_estimators=5000, max_depth=7,\n",
    "#                      min_child_weight=1, gamma=0, subsample=0.55, colsample_bytree=0.85,\n",
    "#                      reg_alpha=1e-5, objective= 'binary:logistic', scale_pos_weight=1, seed=2))\n",
    "\n",
    "makeSubmissionKaggle(RandomForestClassifier(criterion=\"entropy\", n_estimators=47, random_state = 2))\n",
    "#makeSubmissionKaggle(xgb.XGBClassifier())\n",
    "\n",
    "#makeSubmissionKaggle(\"09-spec-min\", LinearDiscriminantAnalysis(n_components = 1, shrinkage = \"auto\", solver=\"lsqr\"))\n",
    "#makeSubmissionKaggle(RandomForestClassifier(criterion = 'entropy', max_features = 'log2', n_estimators = 630))\n",
    "#makeSubmissionKaggle(RandomForestClassifier(criterion = 'entropy', max_features = 'log2', n_estimators = 310))\n",
    "#makeSubmissionAnomalyKaggle(svm.OneClassSVM(nu=0.07, kernel=\"linear\", gamma=0.1, random_state = 2))\n",
    "#makeSubmissionKaggle(svm.OneClassSVM(nu=0.07, kernel=\"poly\", gamma=0.1, random_state = 2))\n",
    "#makeSubmissionAnomalyKaggle(sklearn.ensemble.IsolationForest(contamination = 0.4, random_state = 2))\n",
    "#makeSubmissionKaggle(RandomForestClassifier())"
   ]
  },
  {
   "cell_type": "code",
   "execution_count": null,
   "metadata": {
    "collapsed": true
   },
   "outputs": [],
   "source": []
  }
 ],
 "metadata": {
  "anaconda-cloud": {},
  "kernelspec": {
   "display_name": "Python [default]",
   "language": "python",
   "name": "python3"
  },
  "language_info": {
   "codemirror_mode": {
    "name": "ipython",
    "version": 3
   },
   "file_extension": ".py",
   "mimetype": "text/x-python",
   "name": "python",
   "nbconvert_exporter": "python",
   "pygments_lexer": "ipython3",
   "version": "3.5.2"
  }
 },
 "nbformat": 4,
 "nbformat_minor": 1
}
