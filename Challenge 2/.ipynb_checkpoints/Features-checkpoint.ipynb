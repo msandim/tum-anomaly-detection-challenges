{
 "cells": [
  {
   "cell_type": "code",
   "execution_count": 15,
   "metadata": {
    "collapsed": false
   },
   "outputs": [],
   "source": [
    "# pandas\n",
    "import pandas as pd\n",
    "from pandas import Series,DataFrame\n",
    "from collections import Counter\n",
    "\n",
    "# numpy, matplotlib, seaborn\n",
    "import numpy as np\n",
    "import matplotlib.pyplot as plt\n",
    "import seaborn as sns\n",
    "%matplotlib inline\n",
    "\n",
    "# Random libraries and seeds:\n",
    "import random\n",
    "random.seed(2)\n",
    "np.random.seed(2)\n",
    "\n",
    "# read from csv"
   ]
  },
  {
   "cell_type": "code",
   "execution_count": 3,
   "metadata": {
    "collapsed": true
   },
   "outputs": [],
   "source": [
    "train_df = pd.read_csv(\"data/yelp_data_train.dat\", sep = ';', encoding = 'utf-8')\n",
    "test_df = pd.read_csv(\"data/yelp_data_test.dat\", sep = ';', encoding = 'utf-8')\n",
    "reviewers_df = pd.read_csv(\"data/yelp_data_reviewer.dat\", sep = ';', encoding = 'utf-8')\n",
    "hotels_df = pd.read_csv(\"data/yelp_data_hotel.dat\", sep = ';', encoding = 'utf-8')"
   ]
  },
  {
   "cell_type": "code",
   "execution_count": 33,
   "metadata": {
    "collapsed": false
   },
   "outputs": [
    {
     "data": {
      "text/plain": [
       "0         9.0\n",
       "1        48.0\n",
       "2        84.0\n",
       "3       274.0\n",
       "4        14.0\n",
       "5       106.0\n",
       "6       128.0\n",
       "7       177.0\n",
       "8        88.0\n",
       "9       111.0\n",
       "10       51.0\n",
       "11       59.0\n",
       "12      139.0\n",
       "13       81.0\n",
       "14       19.0\n",
       "15      299.0\n",
       "16       90.0\n",
       "17      134.0\n",
       "18       44.0\n",
       "19      232.0\n",
       "20      379.0\n",
       "21      107.0\n",
       "22       67.0\n",
       "23       42.0\n",
       "24      180.0\n",
       "25      263.0\n",
       "26      200.0\n",
       "27      181.0\n",
       "28      191.0\n",
       "29       77.0\n",
       "        ...  \n",
       "2878    438.0\n",
       "2879     83.0\n",
       "2880    133.0\n",
       "2881     61.0\n",
       "2882     49.0\n",
       "2883     36.0\n",
       "2884    130.0\n",
       "2885    104.0\n",
       "2886    379.0\n",
       "2887     11.0\n",
       "2888     30.0\n",
       "2889     58.0\n",
       "2890     44.0\n",
       "2891     78.0\n",
       "2892    143.0\n",
       "2893    174.0\n",
       "2894    137.0\n",
       "2895    102.0\n",
       "2896    116.0\n",
       "2897     97.0\n",
       "2898    135.0\n",
       "2899    115.0\n",
       "2900    208.0\n",
       "2901    237.0\n",
       "2902    117.0\n",
       "2903     44.0\n",
       "2904     79.0\n",
       "2905     93.0\n",
       "2906    110.0\n",
       "2907     20.0\n",
       "Name: word_count, dtype: float64"
      ]
     },
     "execution_count": 33,
     "metadata": {},
     "output_type": "execute_result"
    }
   ],
   "source": [
    "# http://scikit-learn.org/stable/tutorial/text_analytics/working_with_text_data.html\n",
    "\n",
    "\n",
    "# add feature with lenght of the message\n",
    "train_df['text_length'] = train_df['reviewContent'].str.len() \n",
    "\n",
    "train_df['word_count'] = train_df.reviewContent.str.count(' ')"
   ]
  }
 ],
 "metadata": {
  "anaconda-cloud": {},
  "kernelspec": {
   "display_name": "Python [default]",
   "language": "python",
   "name": "python3"
  },
  "language_info": {
   "codemirror_mode": {
    "name": "ipython",
    "version": 3
   },
   "file_extension": ".py",
   "mimetype": "text/x-python",
   "name": "python",
   "nbconvert_exporter": "python",
   "pygments_lexer": "ipython3",
   "version": "3.5.2"
  }
 },
 "nbformat": 4,
 "nbformat_minor": 1
}
